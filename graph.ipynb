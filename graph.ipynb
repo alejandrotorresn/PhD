{
 "cells": [
  {
   "cell_type": "code",
   "execution_count": 15,
   "metadata": {},
   "outputs": [
    {
     "data": {
      "text/html": [
       "\n",
       "    <div class=\"bk-root\">\n",
       "        <a href=\"https://bokeh.org\" target=\"_blank\" class=\"bk-logo bk-logo-small bk-logo-notebook\"></a>\n",
       "        <span id=\"1423\">Loading BokehJS ...</span>\n",
       "    </div>"
      ]
     },
     "metadata": {},
     "output_type": "display_data"
    },
    {
     "data": {
      "application/javascript": [
       "\n",
       "(function(root) {\n",
       "  function now() {\n",
       "    return new Date();\n",
       "  }\n",
       "\n",
       "  var force = true;\n",
       "\n",
       "  if (typeof root._bokeh_onload_callbacks === \"undefined\" || force === true) {\n",
       "    root._bokeh_onload_callbacks = [];\n",
       "    root._bokeh_is_loading = undefined;\n",
       "  }\n",
       "\n",
       "  var JS_MIME_TYPE = 'application/javascript';\n",
       "  var HTML_MIME_TYPE = 'text/html';\n",
       "  var EXEC_MIME_TYPE = 'application/vnd.bokehjs_exec.v0+json';\n",
       "  var CLASS_NAME = 'output_bokeh rendered_html';\n",
       "\n",
       "  /**\n",
       "   * Render data to the DOM node\n",
       "   */\n",
       "  function render(props, node) {\n",
       "    var script = document.createElement(\"script\");\n",
       "    node.appendChild(script);\n",
       "  }\n",
       "\n",
       "  /**\n",
       "   * Handle when an output is cleared or removed\n",
       "   */\n",
       "  function handleClearOutput(event, handle) {\n",
       "    var cell = handle.cell;\n",
       "\n",
       "    var id = cell.output_area._bokeh_element_id;\n",
       "    var server_id = cell.output_area._bokeh_server_id;\n",
       "    // Clean up Bokeh references\n",
       "    if (id != null && id in Bokeh.index) {\n",
       "      Bokeh.index[id].model.document.clear();\n",
       "      delete Bokeh.index[id];\n",
       "    }\n",
       "\n",
       "    if (server_id !== undefined) {\n",
       "      // Clean up Bokeh references\n",
       "      var cmd = \"from bokeh.io.state import curstate; print(curstate().uuid_to_server['\" + server_id + \"'].get_sessions()[0].document.roots[0]._id)\";\n",
       "      cell.notebook.kernel.execute(cmd, {\n",
       "        iopub: {\n",
       "          output: function(msg) {\n",
       "            var id = msg.content.text.trim();\n",
       "            if (id in Bokeh.index) {\n",
       "              Bokeh.index[id].model.document.clear();\n",
       "              delete Bokeh.index[id];\n",
       "            }\n",
       "          }\n",
       "        }\n",
       "      });\n",
       "      // Destroy server and session\n",
       "      var cmd = \"import bokeh.io.notebook as ion; ion.destroy_server('\" + server_id + \"')\";\n",
       "      cell.notebook.kernel.execute(cmd);\n",
       "    }\n",
       "  }\n",
       "\n",
       "  /**\n",
       "   * Handle when a new output is added\n",
       "   */\n",
       "  function handleAddOutput(event, handle) {\n",
       "    var output_area = handle.output_area;\n",
       "    var output = handle.output;\n",
       "\n",
       "    // limit handleAddOutput to display_data with EXEC_MIME_TYPE content only\n",
       "    if ((output.output_type != \"display_data\") || (!output.data.hasOwnProperty(EXEC_MIME_TYPE))) {\n",
       "      return\n",
       "    }\n",
       "\n",
       "    var toinsert = output_area.element.find(\".\" + CLASS_NAME.split(' ')[0]);\n",
       "\n",
       "    if (output.metadata[EXEC_MIME_TYPE][\"id\"] !== undefined) {\n",
       "      toinsert[toinsert.length - 1].firstChild.textContent = output.data[JS_MIME_TYPE];\n",
       "      // store reference to embed id on output_area\n",
       "      output_area._bokeh_element_id = output.metadata[EXEC_MIME_TYPE][\"id\"];\n",
       "    }\n",
       "    if (output.metadata[EXEC_MIME_TYPE][\"server_id\"] !== undefined) {\n",
       "      var bk_div = document.createElement(\"div\");\n",
       "      bk_div.innerHTML = output.data[HTML_MIME_TYPE];\n",
       "      var script_attrs = bk_div.children[0].attributes;\n",
       "      for (var i = 0; i < script_attrs.length; i++) {\n",
       "        toinsert[toinsert.length - 1].firstChild.setAttribute(script_attrs[i].name, script_attrs[i].value);\n",
       "        toinsert[toinsert.length - 1].firstChild.textContent = bk_div.children[0].textContent\n",
       "      }\n",
       "      // store reference to server id on output_area\n",
       "      output_area._bokeh_server_id = output.metadata[EXEC_MIME_TYPE][\"server_id\"];\n",
       "    }\n",
       "  }\n",
       "\n",
       "  function register_renderer(events, OutputArea) {\n",
       "\n",
       "    function append_mime(data, metadata, element) {\n",
       "      // create a DOM node to render to\n",
       "      var toinsert = this.create_output_subarea(\n",
       "        metadata,\n",
       "        CLASS_NAME,\n",
       "        EXEC_MIME_TYPE\n",
       "      );\n",
       "      this.keyboard_manager.register_events(toinsert);\n",
       "      // Render to node\n",
       "      var props = {data: data, metadata: metadata[EXEC_MIME_TYPE]};\n",
       "      render(props, toinsert[toinsert.length - 1]);\n",
       "      element.append(toinsert);\n",
       "      return toinsert\n",
       "    }\n",
       "\n",
       "    /* Handle when an output is cleared or removed */\n",
       "    events.on('clear_output.CodeCell', handleClearOutput);\n",
       "    events.on('delete.Cell', handleClearOutput);\n",
       "\n",
       "    /* Handle when a new output is added */\n",
       "    events.on('output_added.OutputArea', handleAddOutput);\n",
       "\n",
       "    /**\n",
       "     * Register the mime type and append_mime function with output_area\n",
       "     */\n",
       "    OutputArea.prototype.register_mime_type(EXEC_MIME_TYPE, append_mime, {\n",
       "      /* Is output safe? */\n",
       "      safe: true,\n",
       "      /* Index of renderer in `output_area.display_order` */\n",
       "      index: 0\n",
       "    });\n",
       "  }\n",
       "\n",
       "  // register the mime type if in Jupyter Notebook environment and previously unregistered\n",
       "  if (root.Jupyter !== undefined) {\n",
       "    var events = require('base/js/events');\n",
       "    var OutputArea = require('notebook/js/outputarea').OutputArea;\n",
       "\n",
       "    if (OutputArea.prototype.mime_types().indexOf(EXEC_MIME_TYPE) == -1) {\n",
       "      register_renderer(events, OutputArea);\n",
       "    }\n",
       "  }\n",
       "\n",
       "  \n",
       "  if (typeof (root._bokeh_timeout) === \"undefined\" || force === true) {\n",
       "    root._bokeh_timeout = Date.now() + 5000;\n",
       "    root._bokeh_failed_load = false;\n",
       "  }\n",
       "\n",
       "  var NB_LOAD_WARNING = {'data': {'text/html':\n",
       "     \"<div style='background-color: #fdd'>\\n\"+\n",
       "     \"<p>\\n\"+\n",
       "     \"BokehJS does not appear to have successfully loaded. If loading BokehJS from CDN, this \\n\"+\n",
       "     \"may be due to a slow or bad network connection. Possible fixes:\\n\"+\n",
       "     \"</p>\\n\"+\n",
       "     \"<ul>\\n\"+\n",
       "     \"<li>re-rerun `output_notebook()` to attempt to load from CDN again, or</li>\\n\"+\n",
       "     \"<li>use INLINE resources instead, as so:</li>\\n\"+\n",
       "     \"</ul>\\n\"+\n",
       "     \"<code>\\n\"+\n",
       "     \"from bokeh.resources import INLINE\\n\"+\n",
       "     \"output_notebook(resources=INLINE)\\n\"+\n",
       "     \"</code>\\n\"+\n",
       "     \"</div>\"}};\n",
       "\n",
       "  function display_loaded() {\n",
       "    var el = document.getElementById(\"1423\");\n",
       "    if (el != null) {\n",
       "      el.textContent = \"BokehJS is loading...\";\n",
       "    }\n",
       "    if (root.Bokeh !== undefined) {\n",
       "      if (el != null) {\n",
       "        el.textContent = \"BokehJS \" + root.Bokeh.version + \" successfully loaded.\";\n",
       "      }\n",
       "    } else if (Date.now() < root._bokeh_timeout) {\n",
       "      setTimeout(display_loaded, 100)\n",
       "    }\n",
       "  }\n",
       "\n",
       "\n",
       "  function run_callbacks() {\n",
       "    try {\n",
       "      root._bokeh_onload_callbacks.forEach(function(callback) {\n",
       "        if (callback != null)\n",
       "          callback();\n",
       "      });\n",
       "    } finally {\n",
       "      delete root._bokeh_onload_callbacks\n",
       "    }\n",
       "    console.debug(\"Bokeh: all callbacks have finished\");\n",
       "  }\n",
       "\n",
       "  function load_libs(css_urls, js_urls, callback) {\n",
       "    if (css_urls == null) css_urls = [];\n",
       "    if (js_urls == null) js_urls = [];\n",
       "\n",
       "    root._bokeh_onload_callbacks.push(callback);\n",
       "    if (root._bokeh_is_loading > 0) {\n",
       "      console.debug(\"Bokeh: BokehJS is being loaded, scheduling callback at\", now());\n",
       "      return null;\n",
       "    }\n",
       "    if (js_urls == null || js_urls.length === 0) {\n",
       "      run_callbacks();\n",
       "      return null;\n",
       "    }\n",
       "    console.debug(\"Bokeh: BokehJS not loaded, scheduling load and callback at\", now());\n",
       "    root._bokeh_is_loading = css_urls.length + js_urls.length;\n",
       "\n",
       "    function on_load() {\n",
       "      root._bokeh_is_loading--;\n",
       "      if (root._bokeh_is_loading === 0) {\n",
       "        console.debug(\"Bokeh: all BokehJS libraries/stylesheets loaded\");\n",
       "        run_callbacks()\n",
       "      }\n",
       "    }\n",
       "\n",
       "    function on_error() {\n",
       "      console.error(\"failed to load \" + url);\n",
       "    }\n",
       "\n",
       "    for (var i = 0; i < css_urls.length; i++) {\n",
       "      var url = css_urls[i];\n",
       "      const element = document.createElement(\"link\");\n",
       "      element.onload = on_load;\n",
       "      element.onerror = on_error;\n",
       "      element.rel = \"stylesheet\";\n",
       "      element.type = \"text/css\";\n",
       "      element.href = url;\n",
       "      console.debug(\"Bokeh: injecting link tag for BokehJS stylesheet: \", url);\n",
       "      document.body.appendChild(element);\n",
       "    }\n",
       "\n",
       "    for (var i = 0; i < js_urls.length; i++) {\n",
       "      var url = js_urls[i];\n",
       "      var element = document.createElement('script');\n",
       "      element.onload = on_load;\n",
       "      element.onerror = on_error;\n",
       "      element.async = false;\n",
       "      element.src = url;\n",
       "      \n",
       "      console.debug(\"Bokeh: injecting script tag for BokehJS library: \", url);\n",
       "      document.head.appendChild(element);\n",
       "    }\n",
       "  };var element = document.getElementById(\"1423\");\n",
       "  if (element == null) {\n",
       "    console.error(\"Bokeh: ERROR: autoload.js configured with elementid '1423' but no matching script tag was found. \")\n",
       "    return false;\n",
       "  }\n",
       "\n",
       "  function inject_raw_css(css) {\n",
       "    const element = document.createElement(\"style\");\n",
       "    element.appendChild(document.createTextNode(css));\n",
       "    document.body.appendChild(element);\n",
       "  }\n",
       "\n",
       "  \n",
       "  var js_urls = [\"https://cdn.bokeh.org/bokeh/release/bokeh-2.0.0.min.js\", \"https://cdn.bokeh.org/bokeh/release/bokeh-widgets-2.0.0.min.js\", \"https://cdn.bokeh.org/bokeh/release/bokeh-tables-2.0.0.min.js\", \"https://cdn.bokeh.org/bokeh/release/bokeh-gl-2.0.0.min.js\"];\n",
       "  var css_urls = [];\n",
       "  \n",
       "\n",
       "  var inline_js = [\n",
       "    function(Bokeh) {\n",
       "      Bokeh.set_log_level(\"info\");\n",
       "    },\n",
       "    function(Bokeh) {\n",
       "    \n",
       "    \n",
       "    }\n",
       "  ];\n",
       "\n",
       "  function run_inline_js() {\n",
       "    \n",
       "    if (root.Bokeh !== undefined || force === true) {\n",
       "      \n",
       "    for (var i = 0; i < inline_js.length; i++) {\n",
       "      inline_js[i].call(root, root.Bokeh);\n",
       "    }\n",
       "    if (force === true) {\n",
       "        display_loaded();\n",
       "      }} else if (Date.now() < root._bokeh_timeout) {\n",
       "      setTimeout(run_inline_js, 100);\n",
       "    } else if (!root._bokeh_failed_load) {\n",
       "      console.log(\"Bokeh: BokehJS failed to load within specified timeout.\");\n",
       "      root._bokeh_failed_load = true;\n",
       "    } else if (force !== true) {\n",
       "      var cell = $(document.getElementById(\"1423\")).parents('.cell').data().cell;\n",
       "      cell.output_area.append_execute_result(NB_LOAD_WARNING)\n",
       "    }\n",
       "\n",
       "  }\n",
       "\n",
       "  if (root._bokeh_is_loading === 0) {\n",
       "    console.debug(\"Bokeh: BokehJS loaded, going straight to plotting\");\n",
       "    run_inline_js();\n",
       "  } else {\n",
       "    load_libs(css_urls, js_urls, function() {\n",
       "      console.debug(\"Bokeh: BokehJS plotting callback run at\", now());\n",
       "      run_inline_js();\n",
       "    });\n",
       "  }\n",
       "}(window));"
      ],
      "application/vnd.bokehjs_load.v0+json": "\n(function(root) {\n  function now() {\n    return new Date();\n  }\n\n  var force = true;\n\n  if (typeof root._bokeh_onload_callbacks === \"undefined\" || force === true) {\n    root._bokeh_onload_callbacks = [];\n    root._bokeh_is_loading = undefined;\n  }\n\n  \n\n  \n  if (typeof (root._bokeh_timeout) === \"undefined\" || force === true) {\n    root._bokeh_timeout = Date.now() + 5000;\n    root._bokeh_failed_load = false;\n  }\n\n  var NB_LOAD_WARNING = {'data': {'text/html':\n     \"<div style='background-color: #fdd'>\\n\"+\n     \"<p>\\n\"+\n     \"BokehJS does not appear to have successfully loaded. If loading BokehJS from CDN, this \\n\"+\n     \"may be due to a slow or bad network connection. Possible fixes:\\n\"+\n     \"</p>\\n\"+\n     \"<ul>\\n\"+\n     \"<li>re-rerun `output_notebook()` to attempt to load from CDN again, or</li>\\n\"+\n     \"<li>use INLINE resources instead, as so:</li>\\n\"+\n     \"</ul>\\n\"+\n     \"<code>\\n\"+\n     \"from bokeh.resources import INLINE\\n\"+\n     \"output_notebook(resources=INLINE)\\n\"+\n     \"</code>\\n\"+\n     \"</div>\"}};\n\n  function display_loaded() {\n    var el = document.getElementById(\"1423\");\n    if (el != null) {\n      el.textContent = \"BokehJS is loading...\";\n    }\n    if (root.Bokeh !== undefined) {\n      if (el != null) {\n        el.textContent = \"BokehJS \" + root.Bokeh.version + \" successfully loaded.\";\n      }\n    } else if (Date.now() < root._bokeh_timeout) {\n      setTimeout(display_loaded, 100)\n    }\n  }\n\n\n  function run_callbacks() {\n    try {\n      root._bokeh_onload_callbacks.forEach(function(callback) {\n        if (callback != null)\n          callback();\n      });\n    } finally {\n      delete root._bokeh_onload_callbacks\n    }\n    console.debug(\"Bokeh: all callbacks have finished\");\n  }\n\n  function load_libs(css_urls, js_urls, callback) {\n    if (css_urls == null) css_urls = [];\n    if (js_urls == null) js_urls = [];\n\n    root._bokeh_onload_callbacks.push(callback);\n    if (root._bokeh_is_loading > 0) {\n      console.debug(\"Bokeh: BokehJS is being loaded, scheduling callback at\", now());\n      return null;\n    }\n    if (js_urls == null || js_urls.length === 0) {\n      run_callbacks();\n      return null;\n    }\n    console.debug(\"Bokeh: BokehJS not loaded, scheduling load and callback at\", now());\n    root._bokeh_is_loading = css_urls.length + js_urls.length;\n\n    function on_load() {\n      root._bokeh_is_loading--;\n      if (root._bokeh_is_loading === 0) {\n        console.debug(\"Bokeh: all BokehJS libraries/stylesheets loaded\");\n        run_callbacks()\n      }\n    }\n\n    function on_error() {\n      console.error(\"failed to load \" + url);\n    }\n\n    for (var i = 0; i < css_urls.length; i++) {\n      var url = css_urls[i];\n      const element = document.createElement(\"link\");\n      element.onload = on_load;\n      element.onerror = on_error;\n      element.rel = \"stylesheet\";\n      element.type = \"text/css\";\n      element.href = url;\n      console.debug(\"Bokeh: injecting link tag for BokehJS stylesheet: \", url);\n      document.body.appendChild(element);\n    }\n\n    for (var i = 0; i < js_urls.length; i++) {\n      var url = js_urls[i];\n      var element = document.createElement('script');\n      element.onload = on_load;\n      element.onerror = on_error;\n      element.async = false;\n      element.src = url;\n      \n      console.debug(\"Bokeh: injecting script tag for BokehJS library: \", url);\n      document.head.appendChild(element);\n    }\n  };var element = document.getElementById(\"1423\");\n  if (element == null) {\n    console.error(\"Bokeh: ERROR: autoload.js configured with elementid '1423' but no matching script tag was found. \")\n    return false;\n  }\n\n  function inject_raw_css(css) {\n    const element = document.createElement(\"style\");\n    element.appendChild(document.createTextNode(css));\n    document.body.appendChild(element);\n  }\n\n  \n  var js_urls = [\"https://cdn.bokeh.org/bokeh/release/bokeh-2.0.0.min.js\", \"https://cdn.bokeh.org/bokeh/release/bokeh-widgets-2.0.0.min.js\", \"https://cdn.bokeh.org/bokeh/release/bokeh-tables-2.0.0.min.js\", \"https://cdn.bokeh.org/bokeh/release/bokeh-gl-2.0.0.min.js\"];\n  var css_urls = [];\n  \n\n  var inline_js = [\n    function(Bokeh) {\n      Bokeh.set_log_level(\"info\");\n    },\n    function(Bokeh) {\n    \n    \n    }\n  ];\n\n  function run_inline_js() {\n    \n    if (root.Bokeh !== undefined || force === true) {\n      \n    for (var i = 0; i < inline_js.length; i++) {\n      inline_js[i].call(root, root.Bokeh);\n    }\n    if (force === true) {\n        display_loaded();\n      }} else if (Date.now() < root._bokeh_timeout) {\n      setTimeout(run_inline_js, 100);\n    } else if (!root._bokeh_failed_load) {\n      console.log(\"Bokeh: BokehJS failed to load within specified timeout.\");\n      root._bokeh_failed_load = true;\n    } else if (force !== true) {\n      var cell = $(document.getElementById(\"1423\")).parents('.cell').data().cell;\n      cell.output_area.append_execute_result(NB_LOAD_WARNING)\n    }\n\n  }\n\n  if (root._bokeh_is_loading === 0) {\n    console.debug(\"Bokeh: BokehJS loaded, going straight to plotting\");\n    run_inline_js();\n  } else {\n    load_libs(css_urls, js_urls, function() {\n      console.debug(\"Bokeh: BokehJS plotting callback run at\", now());\n      run_inline_js();\n    });\n  }\n}(window));"
     },
     "metadata": {},
     "output_type": "display_data"
    }
   ],
   "source": [
    "import numpy as np\n",
    "from bokeh.layouts import row, widgetbox\n",
    "from bokeh.models import ColumnDataSource\n",
    "from bokeh.models.widgets import Slider, TextInput\n",
    "from bokeh.plotting import figure, output_notebook, show\n",
    "\n",
    "import pandas as pd\n",
    "\n",
    "output_notebook()"
   ]
  },
  {
   "cell_type": "code",
   "execution_count": 3,
   "metadata": {},
   "outputs": [],
   "source": [
    "resources = pd.read_csv('nn_PyTorch.py_report.csv')\n",
    "times_epochs = pd.read_csv('times_epochs_report_pytorch.csv')\n",
    "times_layers = pd.read_csv('times_layers_report_pytorch.csv')"
   ]
  },
  {
   "cell_type": "raw",
   "metadata": {},
   "source": [
    "print(times_layers)"
   ]
  },
  {
   "cell_type": "code",
   "execution_count": 110,
   "metadata": {},
   "outputs": [],
   "source": [
    "x_min = min(resources['time'].values)\n",
    "x_max = max(resources['time'].values)"
   ]
  },
  {
   "cell_type": "code",
   "execution_count": 179,
   "metadata": {},
   "outputs": [
    {
     "data": {
      "text/html": [
       "\n",
       "\n",
       "\n",
       "\n",
       "\n",
       "\n",
       "  <div class=\"bk-root\" id=\"f98b41fe-1109-4b20-b8d8-40bad3b2dfbe\" data-root-id=\"78887\"></div>\n"
      ]
     },
     "metadata": {},
     "output_type": "display_data"
    },
    {
     "data": {
      "application/javascript": [
       "(function(root) {\n",
       "  function embed_document(root) {\n",
       "    \n",
       "  var docs_json = {\"08f793b4-25f6-4950-a752-41dcc10404c9\":{\"roots\":{\"references\":[{\"attributes\":{\"background_fill_color\":\"#fafafa\",\"below\":[{\"id\":\"78898\"}],\"center\":[{\"id\":\"78901\"},{\"id\":\"78905\"}],\"left\":[{\"id\":\"78902\"}],\"plot_height\":350,\"plot_width\":1300,\"renderers\":[{\"id\":\"78922\"},{\"id\":\"78927\"},{\"id\":\"78932\"},{\"id\":\"78937\"}],\"title\":{\"id\":\"78888\"},\"toolbar\":{\"id\":\"78912\"},\"x_range\":{\"id\":\"78890\"},\"x_scale\":{\"id\":\"78894\"},\"y_range\":{\"id\":\"78892\"},\"y_scale\":{\"id\":\"78896\"}},\"id\":\"78887\",\"subtype\":\"Figure\",\"type\":\"Plot\"},{\"attributes\":{},\"id\":\"78894\",\"type\":\"LinearScale\"},{\"attributes\":{},\"id\":\"80267\",\"type\":\"UnionRenderers\"},{\"attributes\":{\"end\":120},\"id\":\"78892\",\"type\":\"Range1d\"},{\"attributes\":{\"line_color\":\"#1f77b4\",\"line_width\":2,\"x\":{\"field\":\"x\"},\"y\":{\"field\":\"y\"}},\"id\":\"78920\",\"type\":\"Line\"},{\"attributes\":{\"fill_alpha\":{\"value\":0.1},\"fill_color\":{\"value\":\"green\"},\"line_alpha\":{\"value\":0.1},\"line_color\":{\"value\":\"green\"},\"top\":{\"value\":120},\"width\":{\"value\":0.0001},\"x\":{\"field\":\"x\"}},\"id\":\"78931\",\"type\":\"VBar\"},{\"attributes\":{\"data\":{\"x\":{\"__ndarray__\":\"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\",\"dtype\":\"float64\",\"shape\":[400]}},\"selected\":{\"id\":\"80270\"},\"selection_policy\":{\"id\":\"80269\"}},\"id\":\"78934\",\"type\":\"ColumnDataSource\"},{\"attributes\":{},\"id\":\"80268\",\"type\":\"Selection\"},{\"attributes\":{\"fill_color\":{\"value\":\"blue\"},\"line_color\":{\"value\":\"blue\"},\"top\":{\"value\":120},\"width\":{\"value\":0.0001},\"x\":{\"field\":\"x\"}},\"id\":\"78935\",\"type\":\"VBar\"},{\"attributes\":{},\"id\":\"80269\",\"type\":\"UnionRenderers\"},{\"attributes\":{},\"id\":\"78896\",\"type\":\"LinearScale\"},{\"attributes\":{},\"id\":\"80270\",\"type\":\"Selection\"},{\"attributes\":{\"overlay\":{\"id\":\"80262\"}},\"id\":\"78908\",\"type\":\"BoxZoomTool\"},{\"attributes\":{\"fill_alpha\":{\"value\":0.1},\"fill_color\":{\"value\":\"blue\"},\"line_alpha\":{\"value\":0.1},\"line_color\":{\"value\":\"blue\"},\"top\":{\"value\":120},\"width\":{\"value\":0.0001},\"x\":{\"field\":\"x\"}},\"id\":\"78936\",\"type\":\"VBar\"},{\"attributes\":{\"data\":{\"x\":{\"__ndarray__\":\"hIhjB2ic10FUKYYHaJzXQVV8uAdonNdBIrHaB2ic10GMK/IHaJzXQV/DEghonNdBvvs6CGic10GTQlYIaJzXQWwEcghonNdBuAOUCGic10EApLMIaJzXQdvN0AhonNdBPKb0CGic10E/5RIJaJzXQQApOwlonNdBarhXCWic10Hk2YEJaJzXQV0GrAlonNdBv7LMCWic10EW9ugJaJzXQaVJAQponNdBXY4dCmic10G8ADcKaJzXQfl5VAponNdBAYVvCmic10Gy1YcKaJzXQSMDoAponNdBSfS2Cmic10GHJdMKaJzXQVv26QponNdBqmYKC2ic10H7YycLaJzXQUB4PgtonNdBON5qC2ic10EAxYELaJzXQbEvmgtonNdB+3e0C2ic10HlbMsLaJzXQcKA4gtonNdB5Dz7C2ic10Ej4xQMaJzXQVRFLAxonNdBNptDDGic10E7SVwMaJzXQfuAdAxonNdB01aLDGic10HeaKIMaJzXQapVuQxonNdBP8fRDGic10FUBeoMaJzXQTodAQ1onNdB7K0YDWic10EyGjENaJzXQch+Sg1onNdBGnBhDWic10GSdngNaJzXQVMHkQ1onNdBZtqpDWic10F9xcENaJzXQTkQ2Q1onNdBDMTxDWic10GPsgkOaJzXQdmOIA5onNdBJiY3Dmic10Hc3E0OaJzXQXhIaA5onNdBRi6ADmic10GUrpYOaJzXQRsyrQ5onNdBbbfDDmic10GIqNsOaJzXQRKz8w5onNdBRUcKD2ic10HgsCAPaJzXQU0SNw9onNdBtZtND2ic10HTbGQPaJzXQbYufA9onNdBn/WTD2ic10FMwKsPaJzXQQ==\",\"dtype\":\"float64\",\"shape\":[80]},\"y\":{\"__ndarray__\":\"mpmZmZk5fkCamZmZmZkZQDMzMzMzMxtAAAAAAAAAAAAAAAAAAAAAAAAAAAAAAAAAAAAAAAAAKUDNzMzMzIxVQAAAAAAAAClAAAAAAADASEAzMzMzM3NIQAAAAAAAQE9AZmZmZmYmVUBmZmZmZuZYQDMzMzMz81hAAAAAAADAR0AzMzMzMzMpQGZmZmZmZhxAAAAAAAAAOEDNzMzMzMxBQAAAAAAAAAAAAAAAAAAAKEDNzMzMzMxHQM3MzMzM7FFAzczMzMzMN0AzMzMzM9NaQJqZmZmZ2VRAzczMzMzMJ0AzMzMzMzNbQGZmZmZm5jdAzczMzMzMTUAzMzMzM3NXQJqZmZmZ+VdAzczMzMwMWEAAAAAAAABYQDMzMzMzM1hAZmZmZmbmWkAAAAAAAABYQJqZmZmZmVpAMzMzMzMzW0AzMzMzM1NaQGZmZmZmBlhAAAAAAABAWECamZmZmTlYQGZmZmZmRlhAZmZmZmamR0AzMzMzM1NbQAAAAAAAQFhAMzMzMzMzVUAzMzMzM1NYQAAAAAAA4FFAmpmZmZkZWEDNzMzMzOxaQM3MzMzMbFhAAAAAAABgVUCamZmZmTlYQGZmZmZm5lpAAAAAAACAWUCamZmZmTlYQGZmZmZmZlhAMzMzMzMzW0AAAAAAAGBYQDMzMzMzc1hAAAAAAAAAVUAzMzMzM7NXQDMzMzMzM1hAzczMzMxMWECamZmZmXlbQAAAAAAAYFhAmpmZmZmZTkAAAAAAAIBYQM3MzMzMbFhAmpmZmZl5WEAzMzMzM3NYQJqZmZmZWU5AAAAAAACAW0AAAAAAAIBYQJqZmZmZeVhAAAAAAACAWEAzMzMzM/NRQA==\",\"dtype\":\"float64\",\"shape\":[80]}},\"selected\":{\"id\":\"80264\"},\"selection_policy\":{\"id\":\"80263\"}},\"id\":\"78919\",\"type\":\"ColumnDataSource\"},{\"attributes\":{\"source\":{\"id\":\"78929\"}},\"id\":\"78933\",\"type\":\"CDSView\"},{\"attributes\":{},\"id\":\"78906\",\"type\":\"PanTool\"},{\"attributes\":{\"formatter\":{\"id\":\"80259\"},\"ticker\":{\"id\":\"78899\"}},\"id\":\"78898\",\"type\":\"LinearAxis\"},{\"attributes\":{\"data_source\":{\"id\":\"78929\"},\"glyph\":{\"id\":\"78930\"},\"hover_glyph\":null,\"muted_glyph\":null,\"nonselection_glyph\":{\"id\":\"78931\"},\"selection_glyph\":null,\"view\":{\"id\":\"78933\"}},\"id\":\"78932\",\"type\":\"GlyphRenderer\"},{\"attributes\":{},\"id\":\"78903\",\"type\":\"BasicTicker\"},{\"attributes\":{},\"id\":\"78899\",\"type\":\"BasicTicker\"},{\"attributes\":{\"line_alpha\":0.1,\"line_color\":\"#1f77b4\",\"line_width\":2,\"x\":{\"field\":\"x\"},\"y\":{\"field\":\"y\"}},\"id\":\"78921\",\"type\":\"Line\"},{\"attributes\":{\"source\":{\"id\":\"78919\"}},\"id\":\"78923\",\"type\":\"CDSView\"},{\"attributes\":{\"axis\":{\"id\":\"78898\"},\"ticker\":null},\"id\":\"78901\",\"type\":\"Grid\"},{\"attributes\":{\"fill_color\":{\"value\":\"firebrick\"},\"line_color\":{\"value\":\"firebrick\"},\"top\":{\"value\":120},\"width\":{\"value\":0.0001},\"x\":{\"field\":\"x\"}},\"id\":\"78925\",\"type\":\"VBar\"},{\"attributes\":{\"axis\":{\"id\":\"78902\"},\"dimension\":1,\"ticker\":null},\"id\":\"78905\",\"type\":\"Grid\"},{\"attributes\":{\"fill_color\":{\"value\":\"green\"},\"line_color\":{\"value\":\"green\"},\"top\":{\"value\":120},\"width\":{\"value\":0.0001},\"x\":{\"field\":\"x\"}},\"id\":\"78930\",\"type\":\"VBar\"},{\"attributes\":{\"formatter\":{\"id\":\"80261\"},\"ticker\":{\"id\":\"78903\"}},\"id\":\"78902\",\"type\":\"LinearAxis\"},{\"attributes\":{\"data_source\":{\"id\":\"78919\"},\"glyph\":{\"id\":\"78920\"},\"hover_glyph\":null,\"muted_glyph\":null,\"nonselection_glyph\":{\"id\":\"78921\"},\"selection_glyph\":null,\"view\":{\"id\":\"78923\"}},\"id\":\"78922\",\"type\":\"GlyphRenderer\"},{\"attributes\":{\"source\":{\"id\":\"78934\"}},\"id\":\"78938\",\"type\":\"CDSView\"},{\"attributes\":{\"fill_alpha\":{\"value\":0.1},\"fill_color\":{\"value\":\"firebrick\"},\"line_alpha\":{\"value\":0.1},\"line_color\":{\"value\":\"firebrick\"},\"top\":{\"value\":120},\"width\":{\"value\":0.0001},\"x\":{\"field\":\"x\"}},\"id\":\"78926\",\"type\":\"VBar\"},{\"attributes\":{\"active_drag\":\"auto\",\"active_inspect\":\"auto\",\"active_multi\":null,\"active_scroll\":\"auto\",\"active_tap\":\"auto\",\"tools\":[{\"id\":\"78906\"},{\"id\":\"78907\"},{\"id\":\"78908\"},{\"id\":\"78909\"},{\"id\":\"78910\"},{\"id\":\"78911\"}]},\"id\":\"78912\",\"type\":\"Toolbar\"},{\"attributes\":{\"data_source\":{\"id\":\"78934\"},\"glyph\":{\"id\":\"78935\"},\"hover_glyph\":null,\"muted_glyph\":null,\"nonselection_glyph\":{\"id\":\"78936\"},\"selection_glyph\":null,\"view\":{\"id\":\"78938\"}},\"id\":\"78937\",\"type\":\"GlyphRenderer\"},{\"attributes\":{},\"id\":\"78911\",\"type\":\"HelpTool\"},{\"attributes\":{\"data_source\":{\"id\":\"78924\"},\"glyph\":{\"id\":\"78925\"},\"hover_glyph\":null,\"muted_glyph\":null,\"nonselection_glyph\":{\"id\":\"78926\"},\"selection_glyph\":null,\"view\":{\"id\":\"78928\"}},\"id\":\"78927\",\"type\":\"GlyphRenderer\"},{\"attributes\":{},\"id\":\"78907\",\"type\":\"WheelZoomTool\"},{\"attributes\":{\"bottom_units\":\"screen\",\"fill_alpha\":0.5,\"fill_color\":\"lightgrey\",\"left_units\":\"screen\",\"level\":\"overlay\",\"line_alpha\":1.0,\"line_color\":\"black\",\"line_dash\":[4,4],\"line_width\":2,\"render_mode\":\"css\",\"right_units\":\"screen\",\"top_units\":\"screen\"},\"id\":\"80262\",\"type\":\"BoxAnnotation\"},{\"attributes\":{\"source\":{\"id\":\"78924\"}},\"id\":\"78928\",\"type\":\"CDSView\"},{\"attributes\":{},\"id\":\"80265\",\"type\":\"UnionRenderers\"},{\"attributes\":{},\"id\":\"80259\",\"type\":\"BasicTickFormatter\"},{\"attributes\":{},\"id\":\"78909\",\"type\":\"SaveTool\"},{\"attributes\":{},\"id\":\"78910\",\"type\":\"ResetTool\"},{\"attributes\":{},\"id\":\"80261\",\"type\":\"BasicTickFormatter\"},{\"attributes\":{\"data\":{\"x\":{\"__ndarray__\":\"cGsSC2ic10GcZacLaJzXQR3OHAxonNdB41GPDGic10HDgQENaJzXQfMAdA1onNdB8uDlDWic10HHv1cOaJzXQcEeyQ5onNdB3Nw6D2ic10E=\",\"dtype\":\"float64\",\"shape\":[10]}},\"selected\":{\"id\":\"80266\"},\"selection_policy\":{\"id\":\"80265\"}},\"id\":\"78924\",\"type\":\"ColumnDataSource\"},{\"attributes\":{\"data\":{\"x\":{\"__ndarray__\":\"PhAXC2ic10HsbzoLaJzXQd95PQtonNdBgG9AC2ic10H3YEMLaJzXQSRSRgtonNdBSDJJC2ic10EzAkwLaJzXQRDLTgtonNdBXJtRC2ic10HjYVQLaJzXQVYnVwtonNdBKe9ZC2ic10EPt1wLaJzXQaF9XwtonNdBdERiC2ic10GuFmULaJzXQQzkZwtonNdB2a1qC2ic10HrdW0LaJzXQSU+cAtonNdBUgZzC2ic10EpznULaJzXQbiZeAtonNdBe2F7C2ic10G6KX4LaJzXQWbygAtonNdBLb+DC2ic10EGiYYLaJzXQS1RiQtonNdBnR2MC2ic10H55Y4LaJzXQS+0kQtonNdB736UC2ic10ERR5cLaJzXQZoNmgtonNdBetWcC2ic10GJnp8LaJzXQSxjogtonNdBNxilC2ic10GTC6sLaJzXQen3rQtonNdBb8SwC2ic10FekLMLaJzXQVpXtgtonNdBHB+5C2ic10H05bsLaJzXQdysvgtonNdBE3TBC2ic10ECPMQLaJzXQeYCxwtonNdBSMnJC2ic10EZkswLaJzXQX9ZzwtonNdBFyHSC2ic10E46NQLaJzXQa6w1wtonNdBg3faC2ic10EFRN0LaJzXQdj+4QtonNdBztbkC2ic10ELwOcLaJzXQW6b6gtonNdBWGjtC2ic10HBN/ALaJzXQSwL8wtonNdBdtX1C2ic10E2oPgLaJzXQcFm+wtonNdBmC3+C2ic10GJ8wAMaJzXQQO5AwxonNdByn4GDGic10FURAkMaJzXQREKDAxonNdBh9AODGic10F4nxEMaJzXQftlFAxonNdBESMXDGic10EQ2BkMaJzXQd7OHwxonNdBq6QiDGic10EQbiUMaJzXQWk3KAxonNdBdf0qDGic10FOwy0MaJzXQWylMAxonNdBQoIzDGic10GuWDYMaJzXQX4xOQxonNdB/QU8DGic10G/zD4MaJzXQZiVQQxonNdBjFtEDGic10FzIkcMaJzXQT7oSQxonNdBuK5MDGic10FjdE8MaJzXQeo7UgxonNdB/AJVDGic10GWyVcMaJzXQaqSWgxonNdBI1ldDGic10EXH2AMaJzXQRXmYgxonNdBLKtlDGic10FUdmgMaJzXQck7awxonNdBWwhuDGic10GDzXAMaJzXQZKZcwxonNdBHl92DGic10GVI3kMaJzXQSfpewxonNdBaq9+DGic10FddoEMaJzXQSM+hAxonNdBjwiHDGic10HuyokMaJzXQa9/jAxonNdBYEKSDGic10HLFZUMaJzXQQnblwxonNdBRaGaDGic10FRcZ0MaJzXQeY6oAxonNdBDQKjDGic10Gr1KUMaJzXQcybqAxonNdBo2OrDGic10ELKq4MaJzXQXzvsAxonNdBbrazDGic10GWfbYMaJzXQcZDuQxonNdBswq8DGic10FU074MaJzXQTGZwQxonNdBAWDEDGic10HTJccMaJzXQfDpyQxonNdBxbbMDGic10FWfs8MaJzXQXZI0gxonNdBGQ7VDGic10GL1dcMaJzXQfmj2gxonNdBdWndDGic10H4L+AMaJzXQaf34gxonNdBDL/lDGic10GViegMaJzXQbxQ6wxonNdBzRfuDGic10Fe3vAMaJzXQSim8wxonNdB2Wz2DGic10EDMvkMaJzXQXz7+wxonNdBWq/+DGic10ER7gQNaJzXQYvcBw1onNdBUqwKDWic10FGeA0NaJzXQeo+EA1onNdByAwTDWic10H80xUNaJzXQW6dGA1onNdBqmgbDWic10EILx4NaJzXQe3zIA1onNdBK7wjDWic10GBgiYNaJzXQRdJKQ1onNdBkREsDWic10Hs2S4NaJzXQWijMQ1onNdB+2c0DWic10GrLjcNaJzXQefzOQ1onNdB4Lk8DWic10GRfj8NaJzXQbpEQg1onNdBlhFFDWic10FU2kcNaJzXQZCeSg1onNdBtGJNDWic10FYKlANaJzXQdXsUg1onNdBqq5VDWic10FMd1gNaJzXQUU6Ww1onNdB3vxdDWic10EMv2ANaJzXQZaAYw1onNdBpEFmDWic10HWA2kNaJzXQZzGaw1onNdB8oRuDWic10HyOHENaJzXQen/dg1onNdBYtV5DWic10FqnHwNaJzXQfpifw1onNdBbSyCDWic10HY8oQNaJzXQW24hw1onNdBZn+KDWic10F7W40NaJzXQXQskA1onNdBR/eSDWic10FxvZUNaJzXQdGDmA1onNdBY0abDWic10GlCJ4NaJzXQcXJoA1onNdBgIujDWic10FbTaYNaJzXQd4PqQ1onNdB+NCrDWic10Hvla4NaJzXQcBcsQ1onNdB4CK0DWic10FY6LYNaJzXQf6tuQ1onNdBqnS8DWic10EsOr8NaJzXQXkAwg1onNdBu8XEDWic10EwjMcNaJzXQYdTyg1onNdBChnNDWic10Fe4M8NaJzXQQel0g1onNdBC2fVDWic10HXKNgNaJzXQc/p2g1onNdBNqvdDWic10FWbeANaJzXQW4d4w1onNdB5+XoDWic10HQt+sNaJzXQWV+7g1onNdBk0XxDWic10FUDPQNaJzXQSnT9g1onNdBGZr5DWic10F4ZPwNaJzXQc4o/w1onNdBb/ABDmic10H4tAQOaJzXQQ58Bw5onNdB5kIKDmic10HnDQ0OaJzXQaDSDw5onNdBtpQSDmic10FkWBUOaJzXQbMZGA5onNdBpd4aDmic10EBoB0OaJzXQbpmIA5onNdBQygjDmic10Hs6SUOaJzXQVurKA5onNdBAG0rDmic10HwMS4OaJzXQar2MA5onNdB5rwzDmic10FZgzYOaJzXQZZIOQ5onNdBcRA8Dmic10EF1j4OaJzXQZWcQQ5onNdBOGJEDmic10HsLUcOaJzXQZTzSQ5onNdBGctMDmic10EIl08OaJzXQflXUg5onNdB5AVVDmic10HsxloOaJzXQQiWXQ5onNdBpmBgDmic10HWIWMOaJzXQWDjZQ5onNdB6KRoDmic10HzZmsOaJzXQTEpbg5onNdBoepwDmic10HYq3MOaJzXQbJsdg5onNdBxSx5Dmic10HF8HsOaJzXQemxfg5onNdBmXOBDmic10H5NIQOaJzXQYH2hg5onNdB2reJDmic10HPeYwOaJzXQfE9jw5onNdBcAOSDmic10FCxJQOaJzXQQSFlw5onNdBTEeaDmic10FMCp0OaJzXQc7Knw5onNdBO42iDmic10HHTqUOaJzXQfISqA5onNdBCdWqDmic10GKlq0OaJzXQQBcsA5onNdBIx6zDmic10Et3rUOaJzXQSeguA5onNdBdmK7Dmic10HLJ74OaJzXQVvqwA5onNdBQqjDDmic10GRV8YOaJzXQfUgzA5onNdB4vLODmic10G1vNEOaJzXQcF+1A5onNdBV0HXDmic10EnBNoOaJzXQSDG3A5onNdBdoffDmic10HPZOIOaJzXQQc45Q5onNdBLwboDmic10FSy+oOaJzXQX2Q7Q5onNdBxVjwDmic10GwG/MOaJzXQeDc9Q5onNdBop/4Dmic10E/YvsOaJzXQdcj/g5onNdBG+oAD2ic10FdtgMPaJzXQbp5Bg9onNdB9j8JD2ic10H4AAwPaJzXQbzDDg9onNdBV4URD2ic10FtSBQPaJzXQZMLFw9onNdBXc4ZD2ic10G1kRwPaJzXQYRVHw9onNdBVRkiD2ic10EY2yQPaJzXQeucJw9onNdBQl8qD2ic10EdIS0PaJzXQaPjLw9onNdBs6UyD2ic10FPZDUPaJzXQe4TOA9onNdBKd89D2ic10FbrkAPaJzXQQlxQw9onNdBNDVGD2ic10Hy/EgPaJzXQRbDSw9onNdBDIVOD2ic10GlSVEPaJzXQV0MVA9onNdBV89WD2ic10HbkVkPaJzXQaJTXA9onNdBCxpfD2ic10EZ3mEPaJzXQYKgZA9onNdBRGFnD2ic10GCJWoPaJzXQeznbA9onNdBm6tvD2ic10F1cnIPaJzXQZg1dQ9onNdBcPh3D2ic10FqvHoPaJzXQX6AfQ9onNdBgkSAD2ic10F2CIMPaJzXQc3KhQ9onNdBvI6ID2ic10HwVIsPaJzXQbsZjg9onNdBMt+QD2ic10G+oJMPaJzXQbxhlg9onNdBciSZD2ic10FQ55sPaJzXQd2png9onNdBoG2hD2ic10EDMaQPaJzXQZ7upg9onNdBwJ2pD2ic10E=\",\"dtype\":\"float64\",\"shape\":[400]}},\"selected\":{\"id\":\"80268\"},\"selection_policy\":{\"id\":\"80267\"}},\"id\":\"78929\",\"type\":\"ColumnDataSource\"},{\"attributes\":{},\"id\":\"80263\",\"type\":\"UnionRenderers\"},{\"attributes\":{\"text\":\"CPU Percent\"},\"id\":\"78888\",\"type\":\"Title\"},{\"attributes\":{},\"id\":\"80266\",\"type\":\"Selection\"},{\"attributes\":{},\"id\":\"80264\",\"type\":\"Selection\"},{\"attributes\":{\"end\":1584504894.6836119,\"start\":1584504861.5552073},\"id\":\"78890\",\"type\":\"Range1d\"}],\"root_ids\":[\"78887\"]},\"title\":\"Bokeh Application\",\"version\":\"2.0.0\"}};\n",
       "  var render_items = [{\"docid\":\"08f793b4-25f6-4950-a752-41dcc10404c9\",\"root_ids\":[\"78887\"],\"roots\":{\"78887\":\"f98b41fe-1109-4b20-b8d8-40bad3b2dfbe\"}}];\n",
       "  root.Bokeh.embed.embed_items_notebook(docs_json, render_items);\n",
       "\n",
       "  }\n",
       "  if (root.Bokeh !== undefined) {\n",
       "    embed_document(root);\n",
       "  } else {\n",
       "    var attempts = 0;\n",
       "    var timer = setInterval(function(root) {\n",
       "      if (root.Bokeh !== undefined) {\n",
       "        clearInterval(timer);\n",
       "        embed_document(root);\n",
       "      } else {\n",
       "        attempts++;\n",
       "        if (attempts > 100) {\n",
       "          clearInterval(timer);\n",
       "          console.log(\"Bokeh: ERROR: Unable to run BokehJS code because BokehJS library is missing\");\n",
       "        }\n",
       "      }\n",
       "    }, 10, root)\n",
       "  }\n",
       "})(window);"
      ],
      "application/vnd.bokehjs_exec.v0+json": ""
     },
     "metadata": {
      "application/vnd.bokehjs_exec.v0+json": {
       "id": "78887"
      }
     },
     "output_type": "display_data"
    }
   ],
   "source": [
    "plot = figure(plot_width=1300, plot_height=350, background_fill_color=\"#fafafa\", title=\"CPU Percent\", x_range=[x_min, x_max], y_range=[0, 120])\n",
    "\n",
    "plot.line(resources['time'].values, resources['cpu_percent'].values, line_width=2)\n",
    "plot.vbar(x=times_epochs['0'].values, width=0.0001, top=120, color=\"firebrick\")\n",
    "\n",
    "\n",
    "plot.vbar(x=times_layers['0'].values, width=0.0001, top=120, color=\"green\")\n",
    "plot.vbar(x=times_layers['1'].values, width=0.0001, top=120, color=\"blue\")\n",
    "#plot.vbar(x=times_layers['2'].values, width=0.0001, top=120, color=\"red\")\n",
    "#plot.vbar(x=times_layers['3'].values, width=0.0001, top=120, color=\"orange\")\n",
    "#plot.vbar(x=times_layers['4'].values, width=0.0001, top=120, color=\"yellow\")\n",
    "#plot.vbar(x=times_layers['5'].values, width=0.0001, top=120, color=\"pink\")\n",
    "#plot.vbar(x=times_layers['6'].values, width=0.0001, top=120, color=\"black\")\n",
    "#plot.vbar(x=times_layers['7'].values, width=0.0001, top=120, color=\"silver\")\n",
    "#plot.vbar(x=times_layers['8'].values, width=0.0001, top=120, color=\"gray\")\n",
    "#plot.vbar(x=times_layers['9'].values, width=0.0001, top=120, color=\"purple\")\n",
    "\n",
    "show(plot)"
   ]
  },
  {
   "cell_type": "code",
   "execution_count": 151,
   "metadata": {},
   "outputs": [
    {
     "data": {
      "text/html": [
       "\n",
       "\n",
       "\n",
       "\n",
       "\n",
       "\n",
       "  <div class=\"bk-root\" id=\"01eb49fb-b9d9-4e97-a2c7-4f105654ec5a\" data-root-id=\"44379\"></div>\n"
      ]
     },
     "metadata": {},
     "output_type": "display_data"
    },
    {
     "data": {
      "application/javascript": [
       "(function(root) {\n",
       "  function embed_document(root) {\n",
       "    \n",
       "  var docs_json = {\"f6f896e5-a213-4260-8328-0c022d92f220\":{\"roots\":{\"references\":[{\"attributes\":{\"background_fill_color\":\"#fafafa\",\"below\":[{\"id\":\"44390\"}],\"center\":[{\"id\":\"44393\"},{\"id\":\"44397\"}],\"left\":[{\"id\":\"44394\"}],\"plot_height\":350,\"plot_width\":1300,\"renderers\":[{\"id\":\"44414\"},{\"id\":\"44419\"}],\"title\":{\"id\":\"44380\"},\"toolbar\":{\"id\":\"44404\"},\"x_range\":{\"id\":\"44382\"},\"x_scale\":{\"id\":\"44386\"},\"y_range\":{\"id\":\"44384\"},\"y_scale\":{\"id\":\"44388\"}},\"id\":\"44379\",\"subtype\":\"Figure\",\"type\":\"Plot\"},{\"attributes\":{},\"id\":\"44399\",\"type\":\"WheelZoomTool\"},{\"attributes\":{\"fill_color\":{\"value\":\"firebrick\"},\"line_color\":{\"value\":\"firebrick\"},\"top\":{\"value\":100},\"width\":{\"value\":0.01},\"x\":{\"field\":\"x\"}},\"id\":\"44417\",\"type\":\"VBar\"},{\"attributes\":{\"end\":1584504894.6836119,\"start\":1584504861.5552073},\"id\":\"44382\",\"type\":\"Range1d\"},{\"attributes\":{\"overlay\":{\"id\":\"45362\"}},\"id\":\"44400\",\"type\":\"BoxZoomTool\"},{\"attributes\":{\"end\":100},\"id\":\"44384\",\"type\":\"Range1d\"},{\"attributes\":{},\"id\":\"44401\",\"type\":\"SaveTool\"},{\"attributes\":{},\"id\":\"44402\",\"type\":\"ResetTool\"},{\"attributes\":{},\"id\":\"45364\",\"type\":\"Selection\"},{\"attributes\":{},\"id\":\"44386\",\"type\":\"LinearScale\"},{\"attributes\":{\"source\":{\"id\":\"44411\"}},\"id\":\"44415\",\"type\":\"CDSView\"},{\"attributes\":{},\"id\":\"44403\",\"type\":\"HelpTool\"},{\"attributes\":{},\"id\":\"44388\",\"type\":\"LinearScale\"},{\"attributes\":{\"line_alpha\":0.1,\"line_color\":\"#1f77b4\",\"line_width\":2,\"x\":{\"field\":\"x\"},\"y\":{\"field\":\"y\"}},\"id\":\"44413\",\"type\":\"Line\"},{\"attributes\":{\"formatter\":{\"id\":\"45359\"},\"ticker\":{\"id\":\"44391\"}},\"id\":\"44390\",\"type\":\"LinearAxis\"},{\"attributes\":{},\"id\":\"44395\",\"type\":\"BasicTicker\"},{\"attributes\":{\"fill_alpha\":{\"value\":0.1},\"fill_color\":{\"value\":\"firebrick\"},\"line_alpha\":{\"value\":0.1},\"line_color\":{\"value\":\"firebrick\"},\"top\":{\"value\":100},\"width\":{\"value\":0.01},\"x\":{\"field\":\"x\"}},\"id\":\"44418\",\"type\":\"VBar\"},{\"attributes\":{},\"id\":\"44391\",\"type\":\"BasicTicker\"},{\"attributes\":{\"data\":{\"x\":{\"__ndarray__\":\"cGsSC2ic10GcZacLaJzXQR3OHAxonNdB41GPDGic10HDgQENaJzXQfMAdA1onNdB8uDlDWic10HHv1cOaJzXQcEeyQ5onNdB3Nw6D2ic10E=\",\"dtype\":\"float64\",\"shape\":[10]}},\"selected\":{\"id\":\"45366\"},\"selection_policy\":{\"id\":\"45365\"}},\"id\":\"44416\",\"type\":\"ColumnDataSource\"},{\"attributes\":{\"axis\":{\"id\":\"44390\"},\"ticker\":null},\"id\":\"44393\",\"type\":\"Grid\"},{\"attributes\":{\"line_color\":\"#1f77b4\",\"line_width\":2,\"x\":{\"field\":\"x\"},\"y\":{\"field\":\"y\"}},\"id\":\"44412\",\"type\":\"Line\"},{\"attributes\":{\"data_source\":{\"id\":\"44411\"},\"glyph\":{\"id\":\"44412\"},\"hover_glyph\":null,\"muted_glyph\":null,\"nonselection_glyph\":{\"id\":\"44413\"},\"selection_glyph\":null,\"view\":{\"id\":\"44415\"}},\"id\":\"44414\",\"type\":\"GlyphRenderer\"},{\"attributes\":{},\"id\":\"45359\",\"type\":\"BasicTickFormatter\"},{\"attributes\":{\"axis\":{\"id\":\"44394\"},\"dimension\":1,\"ticker\":null},\"id\":\"44397\",\"type\":\"Grid\"},{\"attributes\":{\"text\":\"GPU Utilization Percent\"},\"id\":\"44380\",\"type\":\"Title\"},{\"attributes\":{\"formatter\":{\"id\":\"45361\"},\"ticker\":{\"id\":\"44395\"}},\"id\":\"44394\",\"type\":\"LinearAxis\"},{\"attributes\":{},\"id\":\"45363\",\"type\":\"UnionRenderers\"},{\"attributes\":{\"source\":{\"id\":\"44416\"}},\"id\":\"44420\",\"type\":\"CDSView\"},{\"attributes\":{},\"id\":\"45365\",\"type\":\"UnionRenderers\"},{\"attributes\":{},\"id\":\"45366\",\"type\":\"Selection\"},{\"attributes\":{\"data_source\":{\"id\":\"44416\"},\"glyph\":{\"id\":\"44417\"},\"hover_glyph\":null,\"muted_glyph\":null,\"nonselection_glyph\":{\"id\":\"44418\"},\"selection_glyph\":null,\"view\":{\"id\":\"44420\"}},\"id\":\"44419\",\"type\":\"GlyphRenderer\"},{\"attributes\":{},\"id\":\"45361\",\"type\":\"BasicTickFormatter\"},{\"attributes\":{\"active_drag\":\"auto\",\"active_inspect\":\"auto\",\"active_multi\":null,\"active_scroll\":\"auto\",\"active_tap\":\"auto\",\"tools\":[{\"id\":\"44398\"},{\"id\":\"44399\"},{\"id\":\"44400\"},{\"id\":\"44401\"},{\"id\":\"44402\"},{\"id\":\"44403\"}]},\"id\":\"44404\",\"type\":\"Toolbar\"},{\"attributes\":{\"data\":{\"x\":{\"__ndarray__\":\"hIhjB2ic10FUKYYHaJzXQVV8uAdonNdBIrHaB2ic10GMK/IHaJzXQV/DEghonNdBvvs6CGic10GTQlYIaJzXQWwEcghonNdBuAOUCGic10EApLMIaJzXQdvN0AhonNdBPKb0CGic10E/5RIJaJzXQQApOwlonNdBarhXCWic10Hk2YEJaJzXQV0GrAlonNdBv7LMCWic10EW9ugJaJzXQaVJAQponNdBXY4dCmic10G8ADcKaJzXQfl5VAponNdBAYVvCmic10Gy1YcKaJzXQSMDoAponNdBSfS2Cmic10GHJdMKaJzXQVv26QponNdBqmYKC2ic10H7YycLaJzXQUB4PgtonNdBON5qC2ic10EAxYELaJzXQbEvmgtonNdB+3e0C2ic10HlbMsLaJzXQcKA4gtonNdB5Dz7C2ic10Ej4xQMaJzXQVRFLAxonNdBNptDDGic10E7SVwMaJzXQfuAdAxonNdB01aLDGic10HeaKIMaJzXQapVuQxonNdBP8fRDGic10FUBeoMaJzXQTodAQ1onNdB7K0YDWic10EyGjENaJzXQch+Sg1onNdBGnBhDWic10GSdngNaJzXQVMHkQ1onNdBZtqpDWic10F9xcENaJzXQTkQ2Q1onNdBDMTxDWic10GPsgkOaJzXQdmOIA5onNdBJiY3Dmic10Hc3E0OaJzXQXhIaA5onNdBRi6ADmic10GUrpYOaJzXQRsyrQ5onNdBbbfDDmic10GIqNsOaJzXQRKz8w5onNdBRUcKD2ic10HgsCAPaJzXQU0SNw9onNdBtZtND2ic10HTbGQPaJzXQbYufA9onNdBn/WTD2ic10FMwKsPaJzXQQ==\",\"dtype\":\"float64\",\"shape\":[80]},\"y\":{\"__ndarray__\":\"AAAAAAAAAAAAAAAAAAAAAAAAAAAAAAAAAAAAAAAAAAAAAAAAAAAAAAAAAAAAAAAAAAAAAAAAAAAAAAAAAAAAAAAAAAAAAAAAAAAAAAAAAAAAAAAAAAAAAAAAAAAAAAAAAAAAAAAAAAAAAAAAAAAAAAAAAAAAAAAAAAAAAAAAAAAAAAAAAAAAAAAAAAAAAAAAAAAAAAAAAAAAAAAAAAAAAAAAAAAAAAAAAAAAAAAAAAAAAAAAAADwPwAAAAAAAPA/AAAAAAAAAEAAAAAAAAAAQAAAAAAAAABAAAAAAAAAAAAAAAAAAAAIQAAAAAAAAPA/AAAAAAAA8D8AAAAAAAAAQAAAAAAAgFZAAAAAAABAVkAAAAAAAEBWQAAAAAAAwFZAAAAAAABAVkAAAAAAAMBWQAAAAAAAQFJAAAAAAAAAVkAAAAAAAIBRQAAAAAAAAFZAAAAAAABAVkAAAAAAAIBWQAAAAAAAQFZAAAAAAAAAR0AAAAAAAABWQAAAAAAAgFZAAAAAAABAVkAAAAAAAEBWQAAAAAAAAERAAAAAAABAVkAAAAAAAEBWQAAAAAAAAFdAAAAAAACAVkAAAAAAAIBKQAAAAAAAgFZAAAAAAACAVkAAAAAAAIBWQAAAAAAAwFZAAAAAAABAVUAAAAAAAEBWQAAAAAAAAFdAAAAAAABAVkAAAAAAAEBWQAAAAAAAwFZAAAAAAACAVkAAAAAAAIBWQAAAAAAAgFZAAAAAAABAUkAAAAAAAIBWQAAAAAAAgFZAAAAAAACAVkAAAAAAAIBWQAAAAAAAgEZAAAAAAADAVkAAAAAAAIBWQAAAAAAAgFZAAAAAAACAVkAAAAAAAAAYQA==\",\"dtype\":\"float64\",\"shape\":[80]}},\"selected\":{\"id\":\"45364\"},\"selection_policy\":{\"id\":\"45363\"}},\"id\":\"44411\",\"type\":\"ColumnDataSource\"},{\"attributes\":{\"bottom_units\":\"screen\",\"fill_alpha\":0.5,\"fill_color\":\"lightgrey\",\"left_units\":\"screen\",\"level\":\"overlay\",\"line_alpha\":1.0,\"line_color\":\"black\",\"line_dash\":[4,4],\"line_width\":2,\"render_mode\":\"css\",\"right_units\":\"screen\",\"top_units\":\"screen\"},\"id\":\"45362\",\"type\":\"BoxAnnotation\"},{\"attributes\":{},\"id\":\"44398\",\"type\":\"PanTool\"}],\"root_ids\":[\"44379\"]},\"title\":\"Bokeh Application\",\"version\":\"2.0.0\"}};\n",
       "  var render_items = [{\"docid\":\"f6f896e5-a213-4260-8328-0c022d92f220\",\"root_ids\":[\"44379\"],\"roots\":{\"44379\":\"01eb49fb-b9d9-4e97-a2c7-4f105654ec5a\"}}];\n",
       "  root.Bokeh.embed.embed_items_notebook(docs_json, render_items);\n",
       "\n",
       "  }\n",
       "  if (root.Bokeh !== undefined) {\n",
       "    embed_document(root);\n",
       "  } else {\n",
       "    var attempts = 0;\n",
       "    var timer = setInterval(function(root) {\n",
       "      if (root.Bokeh !== undefined) {\n",
       "        clearInterval(timer);\n",
       "        embed_document(root);\n",
       "      } else {\n",
       "        attempts++;\n",
       "        if (attempts > 100) {\n",
       "          clearInterval(timer);\n",
       "          console.log(\"Bokeh: ERROR: Unable to run BokehJS code because BokehJS library is missing\");\n",
       "        }\n",
       "      }\n",
       "    }, 10, root)\n",
       "  }\n",
       "})(window);"
      ],
      "application/vnd.bokehjs_exec.v0+json": ""
     },
     "metadata": {
      "application/vnd.bokehjs_exec.v0+json": {
       "id": "44379"
      }
     },
     "output_type": "display_data"
    }
   ],
   "source": [
    "plot = figure(plot_width=1300, plot_height=350, background_fill_color=\"#fafafa\", title=\"GPU Utilization Percent\", x_range=[x_min, x_max], y_range=[0, 100])\n",
    "plot.line(resources['time'].values, resources['gpu_utlizacion'].values, line_width=2)\n",
    "plot.vbar(x=times_epochs['0'].values, width=0.01, top=100, color=\"firebrick\")\n",
    "show(plot)"
   ]
  },
  {
   "cell_type": "code",
   "execution_count": 146,
   "metadata": {},
   "outputs": [
    {
     "data": {
      "text/html": [
       "\n",
       "\n",
       "\n",
       "\n",
       "\n",
       "\n",
       "  <div class=\"bk-root\" id=\"32da8dc1-642c-43e1-96d3-39c5f87c3f75\" data-root-id=\"39289\"></div>\n"
      ]
     },
     "metadata": {},
     "output_type": "display_data"
    },
    {
     "data": {
      "application/javascript": [
       "(function(root) {\n",
       "  function embed_document(root) {\n",
       "    \n",
       "  var docs_json = {\"3939d152-e872-431f-8c40-6159cbfe5b58\":{\"roots\":{\"references\":[{\"attributes\":{\"background_fill_color\":\"#fafafa\",\"below\":[{\"id\":\"39300\"}],\"center\":[{\"id\":\"39303\"},{\"id\":\"39307\"}],\"left\":[{\"id\":\"39304\"}],\"plot_height\":350,\"plot_width\":1300,\"renderers\":[{\"id\":\"39324\"},{\"id\":\"39329\"}],\"title\":{\"id\":\"39290\"},\"toolbar\":{\"id\":\"39314\"},\"x_range\":{\"id\":\"39292\"},\"x_scale\":{\"id\":\"39296\"},\"y_range\":{\"id\":\"39294\"},\"y_scale\":{\"id\":\"39298\"}},\"id\":\"39289\",\"subtype\":\"Figure\",\"type\":\"Plot\"},{\"attributes\":{\"line_alpha\":0.1,\"line_color\":\"#1f77b4\",\"line_width\":2,\"x\":{\"field\":\"x\"},\"y\":{\"field\":\"y\"}},\"id\":\"39323\",\"type\":\"Line\"},{\"attributes\":{\"end\":1584504894.6836119,\"start\":1584504861.5552073},\"id\":\"39292\",\"type\":\"Range1d\"},{\"attributes\":{\"axis\":{\"id\":\"39300\"},\"ticker\":null},\"id\":\"39303\",\"type\":\"Grid\"},{\"attributes\":{\"fill_color\":{\"value\":\"firebrick\"},\"line_color\":{\"value\":\"firebrick\"},\"top\":{\"value\":12},\"width\":{\"value\":0.01},\"x\":{\"field\":\"x\"}},\"id\":\"39327\",\"type\":\"VBar\"},{\"attributes\":{},\"id\":\"40221\",\"type\":\"BasicTickFormatter\"},{\"attributes\":{},\"id\":\"39298\",\"type\":\"LinearScale\"},{\"attributes\":{\"data\":{\"x\":{\"__ndarray__\":\"hIhjB2ic10FUKYYHaJzXQVV8uAdonNdBIrHaB2ic10GMK/IHaJzXQV/DEghonNdBvvs6CGic10GTQlYIaJzXQWwEcghonNdBuAOUCGic10EApLMIaJzXQdvN0AhonNdBPKb0CGic10E/5RIJaJzXQQApOwlonNdBarhXCWic10Hk2YEJaJzXQV0GrAlonNdBv7LMCWic10EW9ugJaJzXQaVJAQponNdBXY4dCmic10G8ADcKaJzXQfl5VAponNdBAYVvCmic10Gy1YcKaJzXQSMDoAponNdBSfS2Cmic10GHJdMKaJzXQVv26QponNdBqmYKC2ic10H7YycLaJzXQUB4PgtonNdBON5qC2ic10EAxYELaJzXQbEvmgtonNdB+3e0C2ic10HlbMsLaJzXQcKA4gtonNdB5Dz7C2ic10Ej4xQMaJzXQVRFLAxonNdBNptDDGic10E7SVwMaJzXQfuAdAxonNdB01aLDGic10HeaKIMaJzXQapVuQxonNdBP8fRDGic10FUBeoMaJzXQTodAQ1onNdB7K0YDWic10EyGjENaJzXQch+Sg1onNdBGnBhDWic10GSdngNaJzXQVMHkQ1onNdBZtqpDWic10F9xcENaJzXQTkQ2Q1onNdBDMTxDWic10GPsgkOaJzXQdmOIA5onNdBJiY3Dmic10Hc3E0OaJzXQXhIaA5onNdBRi6ADmic10GUrpYOaJzXQRsyrQ5onNdBbbfDDmic10GIqNsOaJzXQRKz8w5onNdBRUcKD2ic10HgsCAPaJzXQU0SNw9onNdBtZtND2ic10HTbGQPaJzXQbYufA9onNdBn/WTD2ic10FMwKsPaJzXQQ==\",\"dtype\":\"float64\",\"shape\":[80]},\"y\":{\"__ndarray__\":\"OFQUufekwT8Zd6tqv9fBP/I13g4oA8I/w5DYPcxlwz/DkNg9zGXDP6UZwb0bOcQ/HsIv129J1T91Jy5Ji0HfPwOxucTcwuE/XS8JaTBF5D83VK7NFADmPzkgXBDLkOc/nc7pnM7p7D/JDgccxJPzP5nQgULJ3fM/AzGI2W5cAEDNNGJxDNwAQHf0Jit2aAFAkIaP1c1/AUDE9h5mrbYDQLIVHnoLlQRAq9e5fLiABkCg2m9717sJQIJ9WQoBRAxAk1GaSBr9D0C2GvuB9SgTQIg1xeQRzRZAaIUxFZ9vGEBXvQ21pAsdQN3uWZJVUh9AenOwyuEbIUDVp6NINAwiQKa5yKrloCJABnDsUvmgIkA1S/4mA6EiQDFjcYgToSJAF0Hs8Z+iIkAXQezxn6IiQLS+UUUXoCJASBz+xamiIkAor23lrp4iQBFZX1OwoiJAEVlfU7CiIkARWV9TsKIiQEE0cSe6oiJAcw+D+8OiIkDYrTNCx6IiQNitM0LHoiJAPUzkiMqiIkCi6pTPzaIiQD1M5IjKoiJAB4lFFtGiIkBtJ/Zc1KIiQNLFpqPXoiJA0sWmo9eiIkDSxaaj16IiQNLFpqPXoiJA0sWmo9eiIkDSxaaj16IiQJM1q8qhniJAkhmVMCehIkA3ZFfq2qIiQDdkV+raoiJAN2RX6tqiIkCucIkk7Z4iQDdkV+raoiJAN2RX6tqiIkA3ZFfq2qIiQDdkV+raoiJAYwr6YJKjIkA3ZFfq2qIiQDdkV+raoiJAN2RX6tqiIkA3ZFfq2qIiQNLFpqPXoiJAN2RX6tqiIkA3ZFfq2qIiQJwCCDHeoiJAnAIIMd6iIkDuYA+U1h4hQA==\",\"dtype\":\"float64\",\"shape\":[80]}},\"selected\":{\"id\":\"40224\"},\"selection_policy\":{\"id\":\"40223\"}},\"id\":\"39321\",\"type\":\"ColumnDataSource\"},{\"attributes\":{},\"id\":\"39301\",\"type\":\"BasicTicker\"},{\"attributes\":{\"formatter\":{\"id\":\"40219\"},\"ticker\":{\"id\":\"39301\"}},\"id\":\"39300\",\"type\":\"LinearAxis\"},{\"attributes\":{},\"id\":\"39308\",\"type\":\"PanTool\"},{\"attributes\":{\"source\":{\"id\":\"39326\"}},\"id\":\"39330\",\"type\":\"CDSView\"},{\"attributes\":{\"source\":{\"id\":\"39321\"}},\"id\":\"39325\",\"type\":\"CDSView\"},{\"attributes\":{},\"id\":\"39296\",\"type\":\"LinearScale\"},{\"attributes\":{\"bottom_units\":\"screen\",\"fill_alpha\":0.5,\"fill_color\":\"lightgrey\",\"left_units\":\"screen\",\"level\":\"overlay\",\"line_alpha\":1.0,\"line_color\":\"black\",\"line_dash\":[4,4],\"line_width\":2,\"render_mode\":\"css\",\"right_units\":\"screen\",\"top_units\":\"screen\"},\"id\":\"40222\",\"type\":\"BoxAnnotation\"},{\"attributes\":{\"data_source\":{\"id\":\"39326\"},\"glyph\":{\"id\":\"39327\"},\"hover_glyph\":null,\"muted_glyph\":null,\"nonselection_glyph\":{\"id\":\"39328\"},\"selection_glyph\":null,\"view\":{\"id\":\"39330\"}},\"id\":\"39329\",\"type\":\"GlyphRenderer\"},{\"attributes\":{},\"id\":\"40223\",\"type\":\"UnionRenderers\"},{\"attributes\":{},\"id\":\"39311\",\"type\":\"SaveTool\"},{\"attributes\":{\"text\":\"Memory Percent\"},\"id\":\"39290\",\"type\":\"Title\"},{\"attributes\":{},\"id\":\"40225\",\"type\":\"UnionRenderers\"},{\"attributes\":{},\"id\":\"39305\",\"type\":\"BasicTicker\"},{\"attributes\":{},\"id\":\"40224\",\"type\":\"Selection\"},{\"attributes\":{\"axis\":{\"id\":\"39304\"},\"dimension\":1,\"ticker\":null},\"id\":\"39307\",\"type\":\"Grid\"},{\"attributes\":{\"formatter\":{\"id\":\"40221\"},\"ticker\":{\"id\":\"39305\"}},\"id\":\"39304\",\"type\":\"LinearAxis\"},{\"attributes\":{},\"id\":\"39309\",\"type\":\"WheelZoomTool\"},{\"attributes\":{\"line_color\":\"#1f77b4\",\"line_width\":2,\"x\":{\"field\":\"x\"},\"y\":{\"field\":\"y\"}},\"id\":\"39322\",\"type\":\"Line\"},{\"attributes\":{\"overlay\":{\"id\":\"40222\"}},\"id\":\"39310\",\"type\":\"BoxZoomTool\"},{\"attributes\":{\"fill_alpha\":{\"value\":0.1},\"fill_color\":{\"value\":\"firebrick\"},\"line_alpha\":{\"value\":0.1},\"line_color\":{\"value\":\"firebrick\"},\"top\":{\"value\":12},\"width\":{\"value\":0.01},\"x\":{\"field\":\"x\"}},\"id\":\"39328\",\"type\":\"VBar\"},{\"attributes\":{\"end\":12},\"id\":\"39294\",\"type\":\"Range1d\"},{\"attributes\":{\"active_drag\":\"auto\",\"active_inspect\":\"auto\",\"active_multi\":null,\"active_scroll\":\"auto\",\"active_tap\":\"auto\",\"tools\":[{\"id\":\"39308\"},{\"id\":\"39309\"},{\"id\":\"39310\"},{\"id\":\"39311\"},{\"id\":\"39312\"},{\"id\":\"39313\"}]},\"id\":\"39314\",\"type\":\"Toolbar\"},{\"attributes\":{},\"id\":\"39312\",\"type\":\"ResetTool\"},{\"attributes\":{},\"id\":\"40226\",\"type\":\"Selection\"},{\"attributes\":{},\"id\":\"40219\",\"type\":\"BasicTickFormatter\"},{\"attributes\":{\"data\":{\"x\":{\"__ndarray__\":\"cGsSC2ic10GcZacLaJzXQR3OHAxonNdB41GPDGic10HDgQENaJzXQfMAdA1onNdB8uDlDWic10HHv1cOaJzXQcEeyQ5onNdB3Nw6D2ic10E=\",\"dtype\":\"float64\",\"shape\":[10]}},\"selected\":{\"id\":\"40226\"},\"selection_policy\":{\"id\":\"40225\"}},\"id\":\"39326\",\"type\":\"ColumnDataSource\"},{\"attributes\":{},\"id\":\"39313\",\"type\":\"HelpTool\"},{\"attributes\":{\"data_source\":{\"id\":\"39321\"},\"glyph\":{\"id\":\"39322\"},\"hover_glyph\":null,\"muted_glyph\":null,\"nonselection_glyph\":{\"id\":\"39323\"},\"selection_glyph\":null,\"view\":{\"id\":\"39325\"}},\"id\":\"39324\",\"type\":\"GlyphRenderer\"}],\"root_ids\":[\"39289\"]},\"title\":\"Bokeh Application\",\"version\":\"2.0.0\"}};\n",
       "  var render_items = [{\"docid\":\"3939d152-e872-431f-8c40-6159cbfe5b58\",\"root_ids\":[\"39289\"],\"roots\":{\"39289\":\"32da8dc1-642c-43e1-96d3-39c5f87c3f75\"}}];\n",
       "  root.Bokeh.embed.embed_items_notebook(docs_json, render_items);\n",
       "\n",
       "  }\n",
       "  if (root.Bokeh !== undefined) {\n",
       "    embed_document(root);\n",
       "  } else {\n",
       "    var attempts = 0;\n",
       "    var timer = setInterval(function(root) {\n",
       "      if (root.Bokeh !== undefined) {\n",
       "        clearInterval(timer);\n",
       "        embed_document(root);\n",
       "      } else {\n",
       "        attempts++;\n",
       "        if (attempts > 100) {\n",
       "          clearInterval(timer);\n",
       "          console.log(\"Bokeh: ERROR: Unable to run BokehJS code because BokehJS library is missing\");\n",
       "        }\n",
       "      }\n",
       "    }, 10, root)\n",
       "  }\n",
       "})(window);"
      ],
      "application/vnd.bokehjs_exec.v0+json": ""
     },
     "metadata": {
      "application/vnd.bokehjs_exec.v0+json": {
       "id": "39289"
      }
     },
     "output_type": "display_data"
    }
   ],
   "source": [
    "plot = figure(plot_width=1300, plot_height=350, background_fill_color=\"#fafafa\", title=\"Memory Percent\", x_range=[x_min, x_max], y_range=[0, 12])\n",
    "\n",
    "plot.line(resources['time'].values, resources['memory_percent'].values, line_width=2)\n",
    "plot.vbar(x=times_epochs['0'].values, width=0.01, top=12, color=\"firebrick\")\n",
    "\n",
    "show(plot)"
   ]
  },
  {
   "cell_type": "code",
   "execution_count": 147,
   "metadata": {},
   "outputs": [
    {
     "data": {
      "text/html": [
       "\n",
       "\n",
       "\n",
       "\n",
       "\n",
       "\n",
       "  <div class=\"bk-root\" id=\"9e981f0a-a4f1-49d7-ab5d-dc3223007a63\" data-root-id=\"40287\"></div>\n"
      ]
     },
     "metadata": {},
     "output_type": "display_data"
    },
    {
     "data": {
      "application/javascript": [
       "(function(root) {\n",
       "  function embed_document(root) {\n",
       "    \n",
       "  var docs_json = {\"10a07cb2-123b-442e-a8f1-ee58114d5a62\":{\"roots\":{\"references\":[{\"attributes\":{\"background_fill_color\":\"#fafafa\",\"below\":[{\"id\":\"40298\"}],\"center\":[{\"id\":\"40301\"},{\"id\":\"40305\"}],\"left\":[{\"id\":\"40302\"}],\"plot_height\":350,\"plot_width\":1300,\"renderers\":[{\"id\":\"40322\"},{\"id\":\"40327\"}],\"title\":{\"id\":\"40288\"},\"toolbar\":{\"id\":\"40312\"},\"x_range\":{\"id\":\"40290\"},\"x_scale\":{\"id\":\"40294\"},\"y_range\":{\"id\":\"40292\"},\"y_scale\":{\"id\":\"40296\"}},\"id\":\"40287\",\"subtype\":\"Figure\",\"type\":\"Plot\"},{\"attributes\":{},\"id\":\"40299\",\"type\":\"BasicTicker\"},{\"attributes\":{},\"id\":\"41234\",\"type\":\"Selection\"},{\"attributes\":{\"source\":{\"id\":\"40324\"}},\"id\":\"40328\",\"type\":\"CDSView\"},{\"attributes\":{},\"id\":\"41233\",\"type\":\"UnionRenderers\"},{\"attributes\":{\"data_source\":{\"id\":\"40324\"},\"glyph\":{\"id\":\"40325\"},\"hover_glyph\":null,\"muted_glyph\":null,\"nonselection_glyph\":{\"id\":\"40326\"},\"selection_glyph\":null,\"view\":{\"id\":\"40328\"}},\"id\":\"40327\",\"type\":\"GlyphRenderer\"},{\"attributes\":{\"end\":1584504894.6836119,\"start\":1584504861.5552073},\"id\":\"40290\",\"type\":\"Range1d\"},{\"attributes\":{\"data\":{\"x\":{\"__ndarray__\":\"cGsSC2ic10GcZacLaJzXQR3OHAxonNdB41GPDGic10HDgQENaJzXQfMAdA1onNdB8uDlDWic10HHv1cOaJzXQcEeyQ5onNdB3Nw6D2ic10E=\",\"dtype\":\"float64\",\"shape\":[10]}},\"selected\":{\"id\":\"41234\"},\"selection_policy\":{\"id\":\"41233\"}},\"id\":\"40324\",\"type\":\"ColumnDataSource\"},{\"attributes\":{},\"id\":\"40311\",\"type\":\"HelpTool\"},{\"attributes\":{\"data\":{\"x\":{\"__ndarray__\":\"hIhjB2ic10FUKYYHaJzXQVV8uAdonNdBIrHaB2ic10GMK/IHaJzXQV/DEghonNdBvvs6CGic10GTQlYIaJzXQWwEcghonNdBuAOUCGic10EApLMIaJzXQdvN0AhonNdBPKb0CGic10E/5RIJaJzXQQApOwlonNdBarhXCWic10Hk2YEJaJzXQV0GrAlonNdBv7LMCWic10EW9ugJaJzXQaVJAQponNdBXY4dCmic10G8ADcKaJzXQfl5VAponNdBAYVvCmic10Gy1YcKaJzXQSMDoAponNdBSfS2Cmic10GHJdMKaJzXQVv26QponNdBqmYKC2ic10H7YycLaJzXQUB4PgtonNdBON5qC2ic10EAxYELaJzXQbEvmgtonNdB+3e0C2ic10HlbMsLaJzXQcKA4gtonNdB5Dz7C2ic10Ej4xQMaJzXQVRFLAxonNdBNptDDGic10E7SVwMaJzXQfuAdAxonNdB01aLDGic10HeaKIMaJzXQapVuQxonNdBP8fRDGic10FUBeoMaJzXQTodAQ1onNdB7K0YDWic10EyGjENaJzXQch+Sg1onNdBGnBhDWic10GSdngNaJzXQVMHkQ1onNdBZtqpDWic10F9xcENaJzXQTkQ2Q1onNdBDMTxDWic10GPsgkOaJzXQdmOIA5onNdBJiY3Dmic10Hc3E0OaJzXQXhIaA5onNdBRi6ADmic10GUrpYOaJzXQRsyrQ5onNdBbbfDDmic10GIqNsOaJzXQRKz8w5onNdBRUcKD2ic10HgsCAPaJzXQU0SNw9onNdBtZtND2ic10HTbGQPaJzXQbYufA9onNdBn/WTD2ic10FMwKsPaJzXQQ==\",\"dtype\":\"float64\",\"shape\":[80]},\"y\":{\"__ndarray__\":\"soF0sWmlMECygXSxaaUwQLKBdLFppTBAsoF0sWmlMECygXSxaaUwQLKBdLFppTBAsoF0sWmlMECygXSxaaUwQLKBdLFppTBAsoF0sWmlMECygXSxaaUwQLKBdLFppTBAsoF0sWmlMECygXSxaaUwQLKBdLFppTBAiiE5mbhVYEBA+bt31JhgQIcUAySaQGFAYoBEEyhiYUDwqZz2lJxjQO2cZoF2h2RAMqt3uB0aZkArhNVYwtpoQN1B7Eyh82pA1hpK7UW0bUDl7J3RViVxQHmu78NBQnRAnDV4X5ULdUBbI4JxcOl4QI3nM6DejHpA82+X/brTfUACoIobt5h/QEiHhzB+GpdASIeHMH4al0BIh4cwfhqXQEiHhzB+GpdAP+JXrOEil0A/4les4SKXQD/iV6zhIpdAP+JXrOEil0A/4les4SKXQD/iV6zhIpdAP+JXrOEil0A/4les4SKXQD/iV6zhIpdAP+JXrOEil0A/4les4SKXQD/iV6zhIpdAP+JXrOEil0A/4les4SKXQD/iV6zhIpdAP+JXrOEil0A/4les4SKXQD/iV6zhIpdAP+JXrOEil0A/4les4SKXQD/iV6zhIpdAP+JXrOEil0A/4les4SKXQD/iV6zhIpdAP+JXrOEil0A/4les4SKXQD/iV6zhIpdAP+JXrOEil0A/4les4SKXQD/iV6zhIpdAP+JXrOEil0A/4les4SKXQD/iV6zhIpdAP+JXrOEil0A/4les4SKXQD/iV6zhIpdAP+JXrOEil0A/4les4SKXQD/iV6zhIpdAP+JXrOEil0A/4les4SKXQD/iV6zhIpdAP+JXrOEil0A/4les4SKXQA==\",\"dtype\":\"float64\",\"shape\":[80]}},\"selected\":{\"id\":\"41232\"},\"selection_policy\":{\"id\":\"41231\"}},\"id\":\"40319\",\"type\":\"ColumnDataSource\"},{\"attributes\":{\"active_drag\":\"auto\",\"active_inspect\":\"auto\",\"active_multi\":null,\"active_scroll\":\"auto\",\"active_tap\":\"auto\",\"tools\":[{\"id\":\"40306\"},{\"id\":\"40307\"},{\"id\":\"40308\"},{\"id\":\"40309\"},{\"id\":\"40310\"},{\"id\":\"40311\"}]},\"id\":\"40312\",\"type\":\"Toolbar\"},{\"attributes\":{\"bottom_units\":\"screen\",\"fill_alpha\":0.5,\"fill_color\":\"lightgrey\",\"left_units\":\"screen\",\"level\":\"overlay\",\"line_alpha\":1.0,\"line_color\":\"black\",\"line_dash\":[4,4],\"line_width\":2,\"render_mode\":\"css\",\"right_units\":\"screen\",\"top_units\":\"screen\"},\"id\":\"41230\",\"type\":\"BoxAnnotation\"},{\"attributes\":{},\"id\":\"40296\",\"type\":\"LinearScale\"},{\"attributes\":{},\"id\":\"41232\",\"type\":\"Selection\"},{\"attributes\":{\"data_source\":{\"id\":\"40319\"},\"glyph\":{\"id\":\"40320\"},\"hover_glyph\":null,\"muted_glyph\":null,\"nonselection_glyph\":{\"id\":\"40321\"},\"selection_glyph\":null,\"view\":{\"id\":\"40323\"}},\"id\":\"40322\",\"type\":\"GlyphRenderer\"},{\"attributes\":{},\"id\":\"40306\",\"type\":\"PanTool\"},{\"attributes\":{},\"id\":\"41229\",\"type\":\"BasicTickFormatter\"},{\"attributes\":{\"fill_color\":{\"value\":\"firebrick\"},\"line_color\":{\"value\":\"firebrick\"},\"top\":{\"value\":1600},\"width\":{\"value\":0.01},\"x\":{\"field\":\"x\"}},\"id\":\"40325\",\"type\":\"VBar\"},{\"attributes\":{},\"id\":\"40303\",\"type\":\"BasicTicker\"},{\"attributes\":{},\"id\":\"40309\",\"type\":\"SaveTool\"},{\"attributes\":{\"formatter\":{\"id\":\"41229\"},\"ticker\":{\"id\":\"40303\"}},\"id\":\"40302\",\"type\":\"LinearAxis\"},{\"attributes\":{\"overlay\":{\"id\":\"41230\"}},\"id\":\"40308\",\"type\":\"BoxZoomTool\"},{\"attributes\":{\"line_color\":\"#1f77b4\",\"line_width\":2,\"x\":{\"field\":\"x\"},\"y\":{\"field\":\"y\"}},\"id\":\"40320\",\"type\":\"Line\"},{\"attributes\":{\"end\":1600},\"id\":\"40292\",\"type\":\"Range1d\"},{\"attributes\":{},\"id\":\"40294\",\"type\":\"LinearScale\"},{\"attributes\":{},\"id\":\"41227\",\"type\":\"BasicTickFormatter\"},{\"attributes\":{},\"id\":\"40307\",\"type\":\"WheelZoomTool\"},{\"attributes\":{\"axis\":{\"id\":\"40298\"},\"ticker\":null},\"id\":\"40301\",\"type\":\"Grid\"},{\"attributes\":{},\"id\":\"40310\",\"type\":\"ResetTool\"},{\"attributes\":{\"formatter\":{\"id\":\"41227\"},\"ticker\":{\"id\":\"40299\"}},\"id\":\"40298\",\"type\":\"LinearAxis\"},{\"attributes\":{\"axis\":{\"id\":\"40302\"},\"dimension\":1,\"ticker\":null},\"id\":\"40305\",\"type\":\"Grid\"},{\"attributes\":{},\"id\":\"41231\",\"type\":\"UnionRenderers\"},{\"attributes\":{\"source\":{\"id\":\"40319\"}},\"id\":\"40323\",\"type\":\"CDSView\"},{\"attributes\":{\"line_alpha\":0.1,\"line_color\":\"#1f77b4\",\"line_width\":2,\"x\":{\"field\":\"x\"},\"y\":{\"field\":\"y\"}},\"id\":\"40321\",\"type\":\"Line\"},{\"attributes\":{\"fill_alpha\":{\"value\":0.1},\"fill_color\":{\"value\":\"firebrick\"},\"line_alpha\":{\"value\":0.1},\"line_color\":{\"value\":\"firebrick\"},\"top\":{\"value\":1600},\"width\":{\"value\":0.01},\"x\":{\"field\":\"x\"}},\"id\":\"40326\",\"type\":\"VBar\"},{\"attributes\":{\"text\":\"GPU Memory MB\"},\"id\":\"40288\",\"type\":\"Title\"}],\"root_ids\":[\"40287\"]},\"title\":\"Bokeh Application\",\"version\":\"2.0.0\"}};\n",
       "  var render_items = [{\"docid\":\"10a07cb2-123b-442e-a8f1-ee58114d5a62\",\"root_ids\":[\"40287\"],\"roots\":{\"40287\":\"9e981f0a-a4f1-49d7-ab5d-dc3223007a63\"}}];\n",
       "  root.Bokeh.embed.embed_items_notebook(docs_json, render_items);\n",
       "\n",
       "  }\n",
       "  if (root.Bokeh !== undefined) {\n",
       "    embed_document(root);\n",
       "  } else {\n",
       "    var attempts = 0;\n",
       "    var timer = setInterval(function(root) {\n",
       "      if (root.Bokeh !== undefined) {\n",
       "        clearInterval(timer);\n",
       "        embed_document(root);\n",
       "      } else {\n",
       "        attempts++;\n",
       "        if (attempts > 100) {\n",
       "          clearInterval(timer);\n",
       "          console.log(\"Bokeh: ERROR: Unable to run BokehJS code because BokehJS library is missing\");\n",
       "        }\n",
       "      }\n",
       "    }, 10, root)\n",
       "  }\n",
       "})(window);"
      ],
      "application/vnd.bokehjs_exec.v0+json": ""
     },
     "metadata": {
      "application/vnd.bokehjs_exec.v0+json": {
       "id": "40287"
      }
     },
     "output_type": "display_data"
    }
   ],
   "source": [
    "plot = figure(plot_width=1300, plot_height=350, background_fill_color=\"#fafafa\", title=\"GPU Memory MB\", x_range=[x_min, x_max], y_range=[0, 1600])\n",
    "\n",
    "plot.line(resources['time'].values, resources['gpu_memory_utilization'].values, line_width=2)\n",
    "plot.vbar(x=times_epochs['0'].values, width=0.01, top=1600, color=\"firebrick\")\n",
    "\n",
    "show(plot)"
   ]
  },
  {
   "cell_type": "code",
   "execution_count": 172,
   "metadata": {},
   "outputs": [
    {
     "data": {
      "text/html": [
       "\n",
       "\n",
       "\n",
       "\n",
       "\n",
       "\n",
       "  <div class=\"bk-root\" id=\"10de1827-9040-45f2-8c04-1aaa164b4116\" data-root-id=\"68957\"></div>\n"
      ]
     },
     "metadata": {},
     "output_type": "display_data"
    },
    {
     "data": {
      "application/javascript": [
       "(function(root) {\n",
       "  function embed_document(root) {\n",
       "    \n",
       "  var docs_json = {\"d67e481d-abf7-41af-8c95-cdc7c8968292\":{\"roots\":{\"references\":[{\"attributes\":{\"background_fill_color\":\"#fafafa\",\"below\":[{\"id\":\"68968\"}],\"center\":[{\"id\":\"68971\"},{\"id\":\"68975\"}],\"left\":[{\"id\":\"68972\"}],\"plot_height\":350,\"plot_width\":1300,\"renderers\":[{\"id\":\"68992\"},{\"id\":\"68997\"},{\"id\":\"69002\"}],\"title\":{\"id\":\"68958\"},\"toolbar\":{\"id\":\"68982\"},\"x_range\":{\"id\":\"68960\"},\"x_scale\":{\"id\":\"68964\"},\"y_range\":{\"id\":\"68962\"},\"y_scale\":{\"id\":\"68966\"}},\"id\":\"68957\",\"subtype\":\"Figure\",\"type\":\"Plot\"},{\"attributes\":{\"active_drag\":\"auto\",\"active_inspect\":\"auto\",\"active_multi\":null,\"active_scroll\":\"auto\",\"active_tap\":\"auto\",\"tools\":[{\"id\":\"68976\"},{\"id\":\"68977\"},{\"id\":\"68978\"},{\"id\":\"68979\"},{\"id\":\"68980\"},{\"id\":\"68981\"}]},\"id\":\"68982\",\"type\":\"Toolbar\"},{\"attributes\":{\"line_color\":\"purple\",\"x\":{\"field\":\"x\"},\"y\":{\"field\":\"y\"}},\"id\":\"68995\",\"type\":\"Line\"},{\"attributes\":{\"formatter\":{\"id\":\"70222\"},\"ticker\":{\"id\":\"68969\"}},\"id\":\"68968\",\"type\":\"LinearAxis\"},{\"attributes\":{\"end\":1584504894.6836119,\"start\":1584504861.5552073},\"id\":\"68960\",\"type\":\"Range1d\"},{\"attributes\":{\"line_color\":\"blue\",\"x\":{\"field\":\"x\"},\"y\":{\"field\":\"y\"}},\"id\":\"68990\",\"type\":\"Line\"},{\"attributes\":{},\"id\":\"68969\",\"type\":\"BasicTicker\"},{\"attributes\":{\"data\":{\"x\":{\"__ndarray__\":\"cGsSC2ic10GcZacLaJzXQR3OHAxonNdB41GPDGic10HDgQENaJzXQfMAdA1onNdB8uDlDWic10HHv1cOaJzXQcEeyQ5onNdB3Nw6D2ic10E=\",\"dtype\":\"float64\",\"shape\":[10]}},\"selected\":{\"id\":\"70231\"},\"selection_policy\":{\"id\":\"70230\"}},\"id\":\"68999\",\"type\":\"ColumnDataSource\"},{\"attributes\":{},\"id\":\"68981\",\"type\":\"HelpTool\"},{\"attributes\":{},\"id\":\"68973\",\"type\":\"BasicTicker\"},{\"attributes\":{},\"id\":\"70231\",\"type\":\"Selection\"},{\"attributes\":{},\"id\":\"68977\",\"type\":\"WheelZoomTool\"},{\"attributes\":{\"formatter\":{\"id\":\"70224\"},\"ticker\":{\"id\":\"68973\"}},\"id\":\"68972\",\"type\":\"LinearAxis\"},{\"attributes\":{},\"id\":\"68979\",\"type\":\"SaveTool\"},{\"attributes\":{},\"id\":\"70224\",\"type\":\"BasicTickFormatter\"},{\"attributes\":{},\"id\":\"70226\",\"type\":\"UnionRenderers\"},{\"attributes\":{\"data\":{\"x\":{\"__ndarray__\":\"hIhjB2ic10FUKYYHaJzXQVV8uAdonNdBIrHaB2ic10GMK/IHaJzXQV/DEghonNdBvvs6CGic10GTQlYIaJzXQWwEcghonNdBuAOUCGic10EApLMIaJzXQdvN0AhonNdBPKb0CGic10E/5RIJaJzXQQApOwlonNdBarhXCWic10Hk2YEJaJzXQV0GrAlonNdBv7LMCWic10EW9ugJaJzXQaVJAQponNdBXY4dCmic10G8ADcKaJzXQfl5VAponNdBAYVvCmic10Gy1YcKaJzXQSMDoAponNdBSfS2Cmic10GHJdMKaJzXQVv26QponNdBqmYKC2ic10H7YycLaJzXQUB4PgtonNdBON5qC2ic10EAxYELaJzXQbEvmgtonNdB+3e0C2ic10HlbMsLaJzXQcKA4gtonNdB5Dz7C2ic10Ej4xQMaJzXQVRFLAxonNdBNptDDGic10E7SVwMaJzXQfuAdAxonNdB01aLDGic10HeaKIMaJzXQapVuQxonNdBP8fRDGic10FUBeoMaJzXQTodAQ1onNdB7K0YDWic10EyGjENaJzXQch+Sg1onNdBGnBhDWic10GSdngNaJzXQVMHkQ1onNdBZtqpDWic10F9xcENaJzXQTkQ2Q1onNdBDMTxDWic10GPsgkOaJzXQdmOIA5onNdBJiY3Dmic10Hc3E0OaJzXQXhIaA5onNdBRi6ADmic10GUrpYOaJzXQRsyrQ5onNdBbbfDDmic10GIqNsOaJzXQRKz8w5onNdBRUcKD2ic10HgsCAPaJzXQU0SNw9onNdBtZtND2ic10HTbGQPaJzXQbYufA9onNdBn/WTD2ic10FMwKsPaJzXQQ==\",\"dtype\":\"float64\",\"shape\":[80]},\"y\":{\"__ndarray__\":\"AAAAAAAAAAAAAAAAAAAAAAAAAAAAAAAAAAAAAAAAAAAAAAAAAAAAAAAAAAAAAAAAAAAAAAAAAAAAAAAAAAAAAAAAAAAAAAAAAAAAAAAAAAAAAAAAAAAAAAAAAAAAAAAAAAAAAAAAAAAAAAAAAAAAAAAAAAAAAAAAAAAAAAAAAAAAAAAAAAAAAAAAAAAAAAAAAAAAAAAAAAAAAAAAAAAAAAAAAAAAAAAAAAAAAAAAAAAAAAAAgIQuQQAAAAAAAAAAAAAAAAAAAAAAAAAAgIR+QQAAAADQEnNBAAAAAAAAAAAAAAAAgIRuQQAAAAAAAAAAAAAAAIgqYUEAAAAAYONWQQAAAACIKmFBAAAAADicbEEAAAAAgIReQQAAAADQElNBAAAAAICEXkEAAAAAiCphQQAAAADws1pBAAAAAICEbkEAAAAAYONWQQAAAACIKmFBAAAAAIgqcUEAAAAAOJxsQQAAAACAhF5BAAAAAIgqYUEAAAAAiCpxQQAAAACAhG5BAAAAAICEXkEAAAAAiCphQQAAAADQEmNBAAAAAICEbkEAAAAAZDZwQQAAAACAhG5BAAAAAICEXkEAAAAAiCphQQAAAACAhF5BAAAAAIgqYUEAAAAAgIRuQQAAAACAhC5BAAAAANASY0EAAAAAZDZwQQAAAACAhG5BAAAAAICEXkEAAAAAAAAAAAAAAACAhF5BAAAAAIgqYUEAAAAAiCpxQQAAAACIKnFBAAAAAICEbkEAAAAAiCphQQAAAACAhF5BAAAAAICEXkEAAAAAiCphQQAAAACIKmFBAAAAAIgqYUEAAAAAZDZwQQAAAACIKmFBAAAAAIgqYUEAAAAAAAAAAA==\",\"dtype\":\"float64\",\"shape\":[80]}},\"selected\":{\"id\":\"70227\"},\"selection_policy\":{\"id\":\"70226\"}},\"id\":\"68989\",\"type\":\"ColumnDataSource\"},{\"attributes\":{},\"id\":\"68976\",\"type\":\"PanTool\"},{\"attributes\":{},\"id\":\"68980\",\"type\":\"ResetTool\"},{\"attributes\":{\"data_source\":{\"id\":\"68989\"},\"glyph\":{\"id\":\"68990\"},\"hover_glyph\":null,\"muted_glyph\":null,\"nonselection_glyph\":{\"id\":\"68991\"},\"selection_glyph\":null,\"view\":{\"id\":\"68993\"}},\"id\":\"68992\",\"type\":\"GlyphRenderer\"},{\"attributes\":{\"overlay\":{\"id\":\"70225\"}},\"id\":\"68978\",\"type\":\"BoxZoomTool\"},{\"attributes\":{\"source\":{\"id\":\"68994\"}},\"id\":\"68998\",\"type\":\"CDSView\"},{\"attributes\":{\"fill_color\":{\"value\":\"firebrick\"},\"line_color\":{\"value\":\"firebrick\"},\"top\":{\"value\":520000000.0},\"width\":{\"value\":0.01},\"x\":{\"field\":\"x\"}},\"id\":\"69000\",\"type\":\"VBar\"},{\"attributes\":{\"axis\":{\"id\":\"68968\"},\"ticker\":null},\"id\":\"68971\",\"type\":\"Grid\"},{\"attributes\":{\"source\":{\"id\":\"68989\"}},\"id\":\"68993\",\"type\":\"CDSView\"},{\"attributes\":{\"line_alpha\":0.1,\"line_color\":\"purple\",\"x\":{\"field\":\"x\"},\"y\":{\"field\":\"y\"}},\"id\":\"68996\",\"type\":\"Line\"},{\"attributes\":{},\"id\":\"68966\",\"type\":\"LinearScale\"},{\"attributes\":{},\"id\":\"70229\",\"type\":\"Selection\"},{\"attributes\":{\"text\":\"\"},\"id\":\"68958\",\"type\":\"Title\"},{\"attributes\":{},\"id\":\"70222\",\"type\":\"BasicTickFormatter\"},{\"attributes\":{},\"id\":\"70228\",\"type\":\"UnionRenderers\"},{\"attributes\":{\"data\":{\"x\":{\"__ndarray__\":\"hIhjB2ic10FUKYYHaJzXQVV8uAdonNdBIrHaB2ic10GMK/IHaJzXQV/DEghonNdBvvs6CGic10GTQlYIaJzXQWwEcghonNdBuAOUCGic10EApLMIaJzXQdvN0AhonNdBPKb0CGic10E/5RIJaJzXQQApOwlonNdBarhXCWic10Hk2YEJaJzXQV0GrAlonNdBv7LMCWic10EW9ugJaJzXQaVJAQponNdBXY4dCmic10G8ADcKaJzXQfl5VAponNdBAYVvCmic10Gy1YcKaJzXQSMDoAponNdBSfS2Cmic10GHJdMKaJzXQVv26QponNdBqmYKC2ic10H7YycLaJzXQUB4PgtonNdBON5qC2ic10EAxYELaJzXQbEvmgtonNdB+3e0C2ic10HlbMsLaJzXQcKA4gtonNdB5Dz7C2ic10Ej4xQMaJzXQVRFLAxonNdBNptDDGic10E7SVwMaJzXQfuAdAxonNdB01aLDGic10HeaKIMaJzXQapVuQxonNdBP8fRDGic10FUBeoMaJzXQTodAQ1onNdB7K0YDWic10EyGjENaJzXQch+Sg1onNdBGnBhDWic10GSdngNaJzXQVMHkQ1onNdBZtqpDWic10F9xcENaJzXQTkQ2Q1onNdBDMTxDWic10GPsgkOaJzXQdmOIA5onNdBJiY3Dmic10Hc3E0OaJzXQXhIaA5onNdBRi6ADmic10GUrpYOaJzXQRsyrQ5onNdBbbfDDmic10GIqNsOaJzXQRKz8w5onNdBRUcKD2ic10HgsCAPaJzXQU0SNw9onNdBtZtND2ic10HTbGQPaJzXQbYufA9onNdBn/WTD2ic10FMwKsPaJzXQQ==\",\"dtype\":\"float64\",\"shape\":[80]},\"y\":{\"__ndarray__\":\"AAAAAAAAAAAAAAAAAAAAAAAAAAAAAAAAAAAAAAAAAAAAAAAAAAAAAAAAAAAAAAAAAAAAAAAAAAAAAAAAAAAAAAAAAAAAAAAAAAAAAAAAAAAAAAAAAAAAAAAAAAAAAAAAAAAAAAAAAAAAAAAAAAAAAAAAAAAAAAAAAAAAAAAAAAAAAAAAAAAAAAAAAAAAAAAAAAAAAAAAAAAAAAAA+fCaQQAAAAAAAAAAAAAAAOKMk0EAAAAAgIQ+QQAAAAAAAAAAAAAAAJL+vkEAAADAvx67QQAAAABg46ZBAAAAAAAAAAAAAAAAAAAAAAAAAIBiWKpBAAAAAPCzWkEAAACAFYahQQAAAADV/JlBAAAAAPCzekEAAAAAGPt0QQAAAAAY+3RBAAAAAN45mkEAAAAAw4KZQQAAAACxCJlBAAAAAN45mkEAAAAAzL95QQAAAADV/JlBAAAAABSoe0EAAAAAzL95QQAAAADndppBAAAAAMOCmUEAAAAAGPt0QQAAAADMv5lBAAAAAPCzekEAAAAAw4KZQQAAAAC6RZlBAAAAAMOCmUEAAAAA53aaQQAAAABg43ZBAAAAABSoe0EAAAAAYON2QQAAAAAY+3RBAAAAALpFmUEAAAAAYON2QQAAAACsHnJBAAAAALEImUEAAAAAPO91QQAAAADws3pBAAAAAPCzekEAAAAAzL95QQAAAADndppBAAAAAMOCmUEAAAAAqMuYQQAAAAAY+3RBAAAAAOd2mkEAAAAAqMt4QQAAAABckH1BAAAAAOd2mkEAAAAA1fyZQQAAAAC6RZlBAAAAALpFmUEAAAAA3jmaQQAAAACE13dBAAAAALpFmUEAAAAAAAAAAA==\",\"dtype\":\"float64\",\"shape\":[80]}},\"selected\":{\"id\":\"70229\"},\"selection_policy\":{\"id\":\"70228\"}},\"id\":\"68994\",\"type\":\"ColumnDataSource\"},{\"attributes\":{\"fill_alpha\":{\"value\":0.1},\"fill_color\":{\"value\":\"firebrick\"},\"line_alpha\":{\"value\":0.1},\"line_color\":{\"value\":\"firebrick\"},\"top\":{\"value\":520000000.0},\"width\":{\"value\":0.01},\"x\":{\"field\":\"x\"}},\"id\":\"69001\",\"type\":\"VBar\"},{\"attributes\":{},\"id\":\"68962\",\"type\":\"DataRange1d\"},{\"attributes\":{\"source\":{\"id\":\"68999\"}},\"id\":\"69003\",\"type\":\"CDSView\"},{\"attributes\":{},\"id\":\"68964\",\"type\":\"LinearScale\"},{\"attributes\":{},\"id\":\"70230\",\"type\":\"UnionRenderers\"},{\"attributes\":{},\"id\":\"70227\",\"type\":\"Selection\"},{\"attributes\":{\"line_alpha\":0.1,\"line_color\":\"blue\",\"x\":{\"field\":\"x\"},\"y\":{\"field\":\"y\"}},\"id\":\"68991\",\"type\":\"Line\"},{\"attributes\":{\"data_source\":{\"id\":\"68994\"},\"glyph\":{\"id\":\"68995\"},\"hover_glyph\":null,\"muted_glyph\":null,\"nonselection_glyph\":{\"id\":\"68996\"},\"selection_glyph\":null,\"view\":{\"id\":\"68998\"}},\"id\":\"68997\",\"type\":\"GlyphRenderer\"},{\"attributes\":{\"bottom_units\":\"screen\",\"fill_alpha\":0.5,\"fill_color\":\"lightgrey\",\"left_units\":\"screen\",\"level\":\"overlay\",\"line_alpha\":1.0,\"line_color\":\"black\",\"line_dash\":[4,4],\"line_width\":2,\"render_mode\":\"css\",\"right_units\":\"screen\",\"top_units\":\"screen\"},\"id\":\"70225\",\"type\":\"BoxAnnotation\"},{\"attributes\":{\"data_source\":{\"id\":\"68999\"},\"glyph\":{\"id\":\"69000\"},\"hover_glyph\":null,\"muted_glyph\":null,\"nonselection_glyph\":{\"id\":\"69001\"},\"selection_glyph\":null,\"view\":{\"id\":\"69003\"}},\"id\":\"69002\",\"type\":\"GlyphRenderer\"},{\"attributes\":{\"axis\":{\"id\":\"68972\"},\"dimension\":1,\"ticker\":null},\"id\":\"68975\",\"type\":\"Grid\"}],\"root_ids\":[\"68957\"]},\"title\":\"Bokeh Application\",\"version\":\"2.0.0\"}};\n",
       "  var render_items = [{\"docid\":\"d67e481d-abf7-41af-8c95-cdc7c8968292\",\"root_ids\":[\"68957\"],\"roots\":{\"68957\":\"10de1827-9040-45f2-8c04-1aaa164b4116\"}}];\n",
       "  root.Bokeh.embed.embed_items_notebook(docs_json, render_items);\n",
       "\n",
       "  }\n",
       "  if (root.Bokeh !== undefined) {\n",
       "    embed_document(root);\n",
       "  } else {\n",
       "    var attempts = 0;\n",
       "    var timer = setInterval(function(root) {\n",
       "      if (root.Bokeh !== undefined) {\n",
       "        clearInterval(timer);\n",
       "        embed_document(root);\n",
       "      } else {\n",
       "        attempts++;\n",
       "        if (attempts > 100) {\n",
       "          clearInterval(timer);\n",
       "          console.log(\"Bokeh: ERROR: Unable to run BokehJS code because BokehJS library is missing\");\n",
       "        }\n",
       "      }\n",
       "    }, 10, root)\n",
       "  }\n",
       "})(window);"
      ],
      "application/vnd.bokehjs_exec.v0+json": ""
     },
     "metadata": {
      "application/vnd.bokehjs_exec.v0+json": {
       "id": "68957"
      }
     },
     "output_type": "display_data"
    }
   ],
   "source": [
    "plot = figure(plot_width=1300, plot_height=350, background_fill_color=\"#fafafa\", title=\"\", x_range=[x_min, x_max])\n",
    "plot.line(resources['time'].values, resources['pcie_tx'].values, line_width=1, color='blue')\n",
    "plot.line(resources['time'].values, resources['pcie_rx'].values, line_width=1, color='purple')\n",
    "plot.vbar(x=times_epochs['0'].values, width=0.01, top=max(resources['pcie_rx'].values), color=\"firebrick\")\n",
    "show(plot)"
   ]
  }
 ],
 "metadata": {
  "kernelspec": {
   "display_name": "Python 3",
   "language": "python",
   "name": "python3"
  },
  "language_info": {
   "codemirror_mode": {
    "name": "ipython",
    "version": 3
   },
   "file_extension": ".py",
   "mimetype": "text/x-python",
   "name": "python",
   "nbconvert_exporter": "python",
   "pygments_lexer": "ipython3",
   "version": "3.7.6"
  }
 },
 "nbformat": 4,
 "nbformat_minor": 4
}
